{
 "cells": [
  {
   "cell_type": "code",
   "execution_count": 1,
   "metadata": {},
   "outputs": [],
   "source": [
    "# File : SongandDanceMan.ipynb\n",
    "# Author : Jatan Pandya (https://github.com/jatanjay/)\n",
    "# University of Massachusetts - Amherst"
   ]
  },
  {
   "cell_type": "markdown",
   "metadata": {},
   "source": [
    "# **Song and Dance Man**\n",
    "## A corpus based analysis on the works of Bob Dylan from the year 1960 to 2020"
   ]
  },
  {
   "cell_type": "code",
   "execution_count": 2,
   "metadata": {},
   "outputs": [],
   "source": [
    "# you could add an image or something here"
   ]
  },
  {
   "cell_type": "markdown",
   "metadata": {},
   "source": [
    "> ### **Start low, go slow. Catch fire, rise higher.**\n",
    "\n",
    "#### Let's start by scratching the surface of Bob Dylan's corpus, by first cleaning, applying various Natrual Language Processing (NLP) text processing methods and then by extracting information about the same in a way that will help us understand the corpus in a much better way.Along the way, we'll acquaint ourselves with basics of NLP and concepts of English language etc. and ideas that come up in corpus based analysis.\n",
    "\n",
    "### We will be using various meta files and the Corpus CSV file that we generated using \n",
    "### [CorpusGenius](https://github.com/jatanjay/CorpusGenius) for Bob Dylan\n",
    "#### Files such as : \n",
    "##### 1.Dylan's corpus \n",
    "##### 2.Lyrics of songs released by year\n",
    "##### 3.Dylan's Discography by year\n",
    "##### 4.List of all songs relased by Dylan\n",
    "#### Let's start by importing necessary modules for this project and the files that'll be needed "
   ]
  },
  {
   "cell_type": "code",
   "execution_count": 326,
   "metadata": {},
   "outputs": [],
   "source": [
    "import pandas as pd\n",
    "import numpy as np\n",
    "import matplotlib.pyplot as plt\n",
    "from collections import defaultdict\n",
    "import nltk\n",
    "from nltk import ngrams\n",
    "from pprint import pprint"
   ]
  },
  {
   "cell_type": "code",
   "execution_count": null,
   "metadata": {},
   "outputs": [],
   "source": []
  },
  {
   "cell_type": "code",
   "execution_count": 4,
   "metadata": {},
   "outputs": [],
   "source": [
    "dylan_albums = r\"C:/Users/jayes/PycharmProjects/SongandDanceMan/Final_final_final_dylan/Dylan_albums.csv\"\n",
    "dylan_tracks = r\"C:/Users/jayes/PycharmProjects/SongandDanceMan/Final_final_final_dylan/Dylan_tracks.csv\"\n",
    "dylan_lyrics = r\"C:/Users/jayes/PycharmProjects/SongandDanceMan/Final_final_final_dylan/Dylan_lyrics.csv\"\n",
    "dylan_by_years = r\"C:/Users/jayes/PycharmProjects/SongandDanceMan/Final_final_final_dylan/Dylan_lyrics_by_years.csv\"\n",
    "dylan_corpus = r\"C:/Users/jayes/PycharmProjects/SongandDanceMan/Final_final_final_dylan/Dylan_corpus.csv\""
   ]
  },
  {
   "cell_type": "code",
   "execution_count": 5,
   "metadata": {},
   "outputs": [],
   "source": [
    "# first albums released by years"
   ]
  },
  {
   "cell_type": "code",
   "execution_count": 6,
   "metadata": {},
   "outputs": [],
   "source": [
    "albums = pd.read_csv(dylan_albums)\n",
    "tracks = pd.read_csv(dylan_tracks)\n",
    "lyrics = pd.read_csv(dylan_lyrics)\n",
    "by_years = pd.read_csv(dylan_by_years,squeeze=True)"
   ]
  },
  {
   "cell_type": "markdown",
   "metadata": {},
   "source": [
    "### Below are all the albums released by Bob Dylan"
   ]
  },
  {
   "cell_type": "code",
   "execution_count": 7,
   "metadata": {},
   "outputs": [
    {
     "data": {
      "text/html": [
       "<div>\n",
       "<style scoped>\n",
       "    .dataframe tbody tr th:only-of-type {\n",
       "        vertical-align: middle;\n",
       "    }\n",
       "\n",
       "    .dataframe tbody tr th {\n",
       "        vertical-align: top;\n",
       "    }\n",
       "\n",
       "    .dataframe thead th {\n",
       "        text-align: right;\n",
       "    }\n",
       "</style>\n",
       "<table border=\"1\" class=\"dataframe\">\n",
       "  <thead>\n",
       "    <tr style=\"text-align: right;\">\n",
       "      <th></th>\n",
       "      <th>year</th>\n",
       "      <th>album title</th>\n",
       "      <th>album id</th>\n",
       "    </tr>\n",
       "  </thead>\n",
       "  <tbody>\n",
       "    <tr>\n",
       "      <th>0</th>\n",
       "      <td>1962</td>\n",
       "      <td>Bob Dylan</td>\n",
       "      <td>26515</td>\n",
       "    </tr>\n",
       "    <tr>\n",
       "      <th>1</th>\n",
       "      <td>1963</td>\n",
       "      <td>The Freewheelin' Bob Dylan</td>\n",
       "      <td>17327</td>\n",
       "    </tr>\n",
       "    <tr>\n",
       "      <th>2</th>\n",
       "      <td>1964</td>\n",
       "      <td>The Times They Are A-Changin'</td>\n",
       "      <td>28249</td>\n",
       "    </tr>\n",
       "    <tr>\n",
       "      <th>3</th>\n",
       "      <td>1964</td>\n",
       "      <td>Another Side of Bob Dylan</td>\n",
       "      <td>25519</td>\n",
       "    </tr>\n",
       "    <tr>\n",
       "      <th>4</th>\n",
       "      <td>1965</td>\n",
       "      <td>Bringing It All Back Home</td>\n",
       "      <td>17399</td>\n",
       "    </tr>\n",
       "    <tr>\n",
       "      <th>...</th>\n",
       "      <td>...</td>\n",
       "      <td>...</td>\n",
       "      <td>...</td>\n",
       "    </tr>\n",
       "    <tr>\n",
       "      <th>57</th>\n",
       "      <td>2017</td>\n",
       "      <td>Triplicate</td>\n",
       "      <td>328059</td>\n",
       "    </tr>\n",
       "    <tr>\n",
       "      <th>58</th>\n",
       "      <td>2018</td>\n",
       "      <td>The Bootleg Series Vol. 14: More Blood, More T...</td>\n",
       "      <td>466127</td>\n",
       "    </tr>\n",
       "    <tr>\n",
       "      <th>59</th>\n",
       "      <td>2019</td>\n",
       "      <td>The Rolling Thunder Revue: The 1975 Live Recor...</td>\n",
       "      <td>648356</td>\n",
       "    </tr>\n",
       "    <tr>\n",
       "      <th>60</th>\n",
       "      <td>2019</td>\n",
       "      <td>The Bootleg Series Vol. 15: Travelin' Thru, 19...</td>\n",
       "      <td>646838</td>\n",
       "    </tr>\n",
       "    <tr>\n",
       "      <th>61</th>\n",
       "      <td>2020</td>\n",
       "      <td>Rough and Rowdy Ways</td>\n",
       "      <td>633233</td>\n",
       "    </tr>\n",
       "  </tbody>\n",
       "</table>\n",
       "<p>62 rows × 3 columns</p>\n",
       "</div>"
      ],
      "text/plain": [
       "    year                                        album title  album id\n",
       "0   1962                                          Bob Dylan     26515\n",
       "1   1963                         The Freewheelin' Bob Dylan     17327\n",
       "2   1964                      The Times They Are A-Changin'     28249\n",
       "3   1964                          Another Side of Bob Dylan     25519\n",
       "4   1965                          Bringing It All Back Home     17399\n",
       "..   ...                                                ...       ...\n",
       "57  2017                                         Triplicate    328059\n",
       "58  2018  The Bootleg Series Vol. 14: More Blood, More T...    466127\n",
       "59  2019  The Rolling Thunder Revue: The 1975 Live Recor...    648356\n",
       "60  2019  The Bootleg Series Vol. 15: Travelin' Thru, 19...    646838\n",
       "61  2020                               Rough and Rowdy Ways    633233\n",
       "\n",
       "[62 rows x 3 columns]"
      ]
     },
     "execution_count": 7,
     "metadata": {},
     "output_type": "execute_result"
    }
   ],
   "source": [
    "albums"
   ]
  },
  {
   "cell_type": "markdown",
   "metadata": {},
   "source": [
    "### Below are all the tracks released by Bob Dylan"
   ]
  },
  {
   "cell_type": "code",
   "execution_count": 8,
   "metadata": {},
   "outputs": [
    {
     "data": {
      "text/html": [
       "<div>\n",
       "<style scoped>\n",
       "    .dataframe tbody tr th:only-of-type {\n",
       "        vertical-align: middle;\n",
       "    }\n",
       "\n",
       "    .dataframe tbody tr th {\n",
       "        vertical-align: top;\n",
       "    }\n",
       "\n",
       "    .dataframe thead th {\n",
       "        text-align: right;\n",
       "    }\n",
       "</style>\n",
       "<table border=\"1\" class=\"dataframe\">\n",
       "  <thead>\n",
       "    <tr style=\"text-align: right;\">\n",
       "      <th></th>\n",
       "      <th>album title</th>\n",
       "      <th>song title</th>\n",
       "      <th>song id</th>\n",
       "      <th>year</th>\n",
       "    </tr>\n",
       "  </thead>\n",
       "  <tbody>\n",
       "    <tr>\n",
       "      <th>0</th>\n",
       "      <td>The Bootleg Series Vol. 8: Tell Tale Signs: Ra...</td>\n",
       "      <td>'Cross the Green Mountain</td>\n",
       "      <td>1006242</td>\n",
       "      <td>2008.0</td>\n",
       "    </tr>\n",
       "    <tr>\n",
       "      <th>1</th>\n",
       "      <td>NaN</td>\n",
       "      <td>'Cross the Green Mountain</td>\n",
       "      <td>1006242</td>\n",
       "      <td>NaN</td>\n",
       "    </tr>\n",
       "    <tr>\n",
       "      <th>2</th>\n",
       "      <td>Under the Red Sky</td>\n",
       "      <td>10,000 Men</td>\n",
       "      <td>200681</td>\n",
       "      <td>1990.0</td>\n",
       "    </tr>\n",
       "    <tr>\n",
       "      <th>3</th>\n",
       "      <td>NaN</td>\n",
       "      <td>10,000 Men</td>\n",
       "      <td>200681</td>\n",
       "      <td>NaN</td>\n",
       "    </tr>\n",
       "    <tr>\n",
       "      <th>4</th>\n",
       "      <td>NaN</td>\n",
       "      <td>2 X 2</td>\n",
       "      <td>200682</td>\n",
       "      <td>NaN</td>\n",
       "    </tr>\n",
       "    <tr>\n",
       "      <th>...</th>\n",
       "      <td>...</td>\n",
       "      <td>...</td>\n",
       "      <td>...</td>\n",
       "      <td>...</td>\n",
       "    </tr>\n",
       "    <tr>\n",
       "      <th>1917</th>\n",
       "      <td>NaN</td>\n",
       "      <td>You're a Big Girl Now (9/16/74, Take 2)</td>\n",
       "      <td>3991896</td>\n",
       "      <td>NaN</td>\n",
       "    </tr>\n",
       "    <tr>\n",
       "      <th>1918</th>\n",
       "      <td>The Bootleg Series Vol. 14: More Blood, More T...</td>\n",
       "      <td>You're a Big Girl Now (9/16/74, Take 2)</td>\n",
       "      <td>3991896</td>\n",
       "      <td>2018.0</td>\n",
       "    </tr>\n",
       "    <tr>\n",
       "      <th>1919</th>\n",
       "      <td>The Bootleg Series Vol. 14: More Blood, More T...</td>\n",
       "      <td>You're a Big Girl Now (9/17/74 Take 1, Remake)</td>\n",
       "      <td>4124382</td>\n",
       "      <td>2018.0</td>\n",
       "    </tr>\n",
       "    <tr>\n",
       "      <th>1920</th>\n",
       "      <td>Fallen Angels</td>\n",
       "      <td>Young at Heart</td>\n",
       "      <td>2475866</td>\n",
       "      <td>2016.0</td>\n",
       "    </tr>\n",
       "    <tr>\n",
       "      <th>1921</th>\n",
       "      <td>NaN</td>\n",
       "      <td>Young at Heart</td>\n",
       "      <td>2475866</td>\n",
       "      <td>NaN</td>\n",
       "    </tr>\n",
       "  </tbody>\n",
       "</table>\n",
       "<p>1922 rows × 4 columns</p>\n",
       "</div>"
      ],
      "text/plain": [
       "                                            album title  \\\n",
       "0     The Bootleg Series Vol. 8: Tell Tale Signs: Ra...   \n",
       "1                                                   NaN   \n",
       "2                                     Under the Red Sky   \n",
       "3                                                   NaN   \n",
       "4                                                   NaN   \n",
       "...                                                 ...   \n",
       "1917                                                NaN   \n",
       "1918  The Bootleg Series Vol. 14: More Blood, More T...   \n",
       "1919  The Bootleg Series Vol. 14: More Blood, More T...   \n",
       "1920                                      Fallen Angels   \n",
       "1921                                                NaN   \n",
       "\n",
       "                                          song title  song id    year  \n",
       "0                          'Cross the Green Mountain  1006242  2008.0  \n",
       "1                          'Cross the Green Mountain  1006242     NaN  \n",
       "2                                         10,000 Men   200681  1990.0  \n",
       "3                                         10,000 Men   200681     NaN  \n",
       "4                                              2 X 2   200682     NaN  \n",
       "...                                              ...      ...     ...  \n",
       "1917         You're a Big Girl Now (9/16/74, Take 2)  3991896     NaN  \n",
       "1918         You're a Big Girl Now (9/16/74, Take 2)  3991896  2018.0  \n",
       "1919  You're a Big Girl Now (9/17/74 Take 1, Remake)  4124382  2018.0  \n",
       "1920                                  Young at Heart  2475866  2016.0  \n",
       "1921                                  Young at Heart  2475866     NaN  \n",
       "\n",
       "[1922 rows x 4 columns]"
      ]
     },
     "execution_count": 8,
     "metadata": {},
     "output_type": "execute_result"
    }
   ],
   "source": [
    "tracks"
   ]
  },
  {
   "cell_type": "code",
   "execution_count": 9,
   "metadata": {},
   "outputs": [
    {
     "data": {
      "text/html": [
       "<div>\n",
       "<style scoped>\n",
       "    .dataframe tbody tr th:only-of-type {\n",
       "        vertical-align: middle;\n",
       "    }\n",
       "\n",
       "    .dataframe tbody tr th {\n",
       "        vertical-align: top;\n",
       "    }\n",
       "\n",
       "    .dataframe thead th {\n",
       "        text-align: right;\n",
       "    }\n",
       "</style>\n",
       "<table border=\"1\" class=\"dataframe\">\n",
       "  <thead>\n",
       "    <tr style=\"text-align: right;\">\n",
       "      <th></th>\n",
       "      <th>Unnamed: 0</th>\n",
       "      <th>lyrics</th>\n",
       "    </tr>\n",
       "  </thead>\n",
       "  <tbody>\n",
       "    <tr>\n",
       "      <th>0</th>\n",
       "      <td>'Cross the Green Mountain</td>\n",
       "      <td>{'I cross the green mountain, I slept by the s...</td>\n",
       "    </tr>\n",
       "    <tr>\n",
       "      <th>1</th>\n",
       "      <td>10,000 Men</td>\n",
       "      <td>{'Ten thousand men on a hill Ten thousand men ...</td>\n",
       "    </tr>\n",
       "    <tr>\n",
       "      <th>2</th>\n",
       "      <td>2 X 2</td>\n",
       "      <td>{'One by one, they followed the sun One by one...</td>\n",
       "    </tr>\n",
       "    <tr>\n",
       "      <th>3</th>\n",
       "      <td>4th Time Around</td>\n",
       "      <td>{'When she said \"Dont waste your words, theyre...</td>\n",
       "    </tr>\n",
       "    <tr>\n",
       "      <th>4</th>\n",
       "      <td>A Hard Rain's  A-Gonna Fall [Gaslight 1962]</td>\n",
       "      <td>{'Oh, where have you been, my blue-eyed son? A...</td>\n",
       "    </tr>\n",
       "    <tr>\n",
       "      <th>...</th>\n",
       "      <td>...</td>\n",
       "      <td>...</td>\n",
       "    </tr>\n",
       "    <tr>\n",
       "      <th>500</th>\n",
       "      <td>You're A Big Girl Now [Hard Rain]</td>\n",
       "      <td>{'Our conversation was short and sweet It near...</td>\n",
       "    </tr>\n",
       "    <tr>\n",
       "      <th>501</th>\n",
       "      <td>You're Gonna Make Me Lonesome When You Go</td>\n",
       "      <td>{'Ive seen love go by my door Its never been t...</td>\n",
       "    </tr>\n",
       "    <tr>\n",
       "      <th>502</th>\n",
       "      <td>You're Gonna Make Me Lonesome When You Go (9/1...</td>\n",
       "      <td>{'Ive seen love go by my door Its never been t...</td>\n",
       "    </tr>\n",
       "    <tr>\n",
       "      <th>503</th>\n",
       "      <td>You're a Big Girl Now</td>\n",
       "      <td>{'Our conversation was short and sweet It near...</td>\n",
       "    </tr>\n",
       "    <tr>\n",
       "      <th>504</th>\n",
       "      <td>You're a Big Girl Now (9/16/74, Take 2)</td>\n",
       "      <td>{'Our conversation was short and sweet It near...</td>\n",
       "    </tr>\n",
       "  </tbody>\n",
       "</table>\n",
       "<p>505 rows × 2 columns</p>\n",
       "</div>"
      ],
      "text/plain": [
       "                                            Unnamed: 0  \\\n",
       "0                            'Cross the Green Mountain   \n",
       "1                                           10,000 Men   \n",
       "2                                                2 X 2   \n",
       "3                                      4th Time Around   \n",
       "4          A Hard Rain's  A-Gonna Fall [Gaslight 1962]   \n",
       "..                                                 ...   \n",
       "500                  You're A Big Girl Now [Hard Rain]   \n",
       "501          You're Gonna Make Me Lonesome When You Go   \n",
       "502  You're Gonna Make Me Lonesome When You Go (9/1...   \n",
       "503                              You're a Big Girl Now   \n",
       "504            You're a Big Girl Now (9/16/74, Take 2)   \n",
       "\n",
       "                                                lyrics  \n",
       "0    {'I cross the green mountain, I slept by the s...  \n",
       "1    {'Ten thousand men on a hill Ten thousand men ...  \n",
       "2    {'One by one, they followed the sun One by one...  \n",
       "3    {'When she said \"Dont waste your words, theyre...  \n",
       "4    {'Oh, where have you been, my blue-eyed son? A...  \n",
       "..                                                 ...  \n",
       "500  {'Our conversation was short and sweet It near...  \n",
       "501  {'Ive seen love go by my door Its never been t...  \n",
       "502  {'Ive seen love go by my door Its never been t...  \n",
       "503  {'Our conversation was short and sweet It near...  \n",
       "504  {'Our conversation was short and sweet It near...  \n",
       "\n",
       "[505 rows x 2 columns]"
      ]
     },
     "execution_count": 9,
     "metadata": {},
     "output_type": "execute_result"
    }
   ],
   "source": [
    "lyrics"
   ]
  },
  {
   "cell_type": "markdown",
   "metadata": {},
   "source": [
    "### Tweaks for plots"
   ]
  },
  {
   "cell_type": "code",
   "execution_count": 10,
   "metadata": {},
   "outputs": [],
   "source": [
    "plt.rcParams['figure.figsize'] = [8, 4]\n",
    "plt.rcParams['figure.dpi'] = 150"
   ]
  },
  {
   "cell_type": "markdown",
   "metadata": {},
   "source": [
    "## In order to understand Dylan's discography and style, let's mess around with data directly "
   ]
  },
  {
   "cell_type": "markdown",
   "metadata": {},
   "source": [
    "### 1) Average word length by year \n",
    "#### For that, we'll make use of file \"by_years\". Below are all the lyrics (including released by each year)"
   ]
  },
  {
   "cell_type": "code",
   "execution_count": 11,
   "metadata": {},
   "outputs": [
    {
     "data": {
      "text/html": [
       "<div>\n",
       "<style scoped>\n",
       "    .dataframe tbody tr th:only-of-type {\n",
       "        vertical-align: middle;\n",
       "    }\n",
       "\n",
       "    .dataframe tbody tr th {\n",
       "        vertical-align: top;\n",
       "    }\n",
       "\n",
       "    .dataframe thead th {\n",
       "        text-align: right;\n",
       "    }\n",
       "</style>\n",
       "<table border=\"1\" class=\"dataframe\">\n",
       "  <thead>\n",
       "    <tr style=\"text-align: right;\">\n",
       "      <th></th>\n",
       "      <th>year</th>\n",
       "      <th>lyrics</th>\n",
       "    </tr>\n",
       "  </thead>\n",
       "  <tbody>\n",
       "    <tr>\n",
       "      <th>46</th>\n",
       "      <td>1962.0</td>\n",
       "      <td>{'Im out here a thousand miles from my home Wa...</td>\n",
       "    </tr>\n",
       "    <tr>\n",
       "      <th>7</th>\n",
       "      <td>1963.0</td>\n",
       "      <td>{'How many roads must a man walk down Before y...</td>\n",
       "    </tr>\n",
       "    <tr>\n",
       "      <th>17</th>\n",
       "      <td>1964.0</td>\n",
       "      <td>{'Hollis Brown He lived on the outside of town...</td>\n",
       "    </tr>\n",
       "    <tr>\n",
       "      <th>24</th>\n",
       "      <td>1965.0</td>\n",
       "      <td>{'Once upon a time you dressed so fine Threw t...</td>\n",
       "    </tr>\n",
       "    <tr>\n",
       "      <th>3</th>\n",
       "      <td>1966.0</td>\n",
       "      <td>{'Early in the mornin Early in the mornin Im c...</td>\n",
       "    </tr>\n",
       "    <tr>\n",
       "      <th>15</th>\n",
       "      <td>1967.0</td>\n",
       "      <td>{'I pity the poor immigrant Who wishes he woul...</td>\n",
       "    </tr>\n",
       "    <tr>\n",
       "      <th>39</th>\n",
       "      <td>1969.0</td>\n",
       "      <td>{'I have heard rumors all over town They say t...</td>\n",
       "    </tr>\n",
       "    <tr>\n",
       "      <th>18</th>\n",
       "      <td>1970.0</td>\n",
       "      <td>{'Cant you hear that rooster crowing? Rabbit r...</td>\n",
       "    </tr>\n",
       "    <tr>\n",
       "      <th>8</th>\n",
       "      <td>1971.0</td>\n",
       "      <td>{'I aint lookin to compete with you Beat or ch...</td>\n",
       "    </tr>\n",
       "    <tr>\n",
       "      <th>29</th>\n",
       "      <td>1973.0</td>\n",
       "      <td>{'Spend the night with some sweet senorita Int...</td>\n",
       "    </tr>\n",
       "    <tr>\n",
       "      <th>42</th>\n",
       "      <td>1974.0</td>\n",
       "      <td>{'You angel, you Your essence got me under you...</td>\n",
       "    </tr>\n",
       "    <tr>\n",
       "      <th>33</th>\n",
       "      <td>1975.0</td>\n",
       "      <td>{'Buckets of rain Buckets of tears Got all the...</td>\n",
       "    </tr>\n",
       "    <tr>\n",
       "      <th>30</th>\n",
       "      <td>1976.0</td>\n",
       "      <td>{'I laid on a dune, I looked at the sky When t...</td>\n",
       "    </tr>\n",
       "    <tr>\n",
       "      <th>37</th>\n",
       "      <td>1978.0</td>\n",
       "      <td>{'I think we better talk this over Maybe when ...</td>\n",
       "    </tr>\n",
       "    <tr>\n",
       "      <th>12</th>\n",
       "      <td>1979.0</td>\n",
       "      <td>{'They say evrything can be replaced Yet evry ...</td>\n",
       "    </tr>\n",
       "    <tr>\n",
       "      <th>21</th>\n",
       "      <td>1980.0</td>\n",
       "      <td>{'Are you ready, are you ready? Are you ready,...</td>\n",
       "    </tr>\n",
       "    <tr>\n",
       "      <th>40</th>\n",
       "      <td>1981.0</td>\n",
       "      <td>{'Trouble in the city, trouble in the farm You...</td>\n",
       "    </tr>\n",
       "    <tr>\n",
       "      <th>44</th>\n",
       "      <td>1983.0</td>\n",
       "      <td>{'Standing on the waters   casting your bread ...</td>\n",
       "    </tr>\n",
       "    <tr>\n",
       "      <th>26</th>\n",
       "      <td>1984.0</td>\n",
       "      <td>{'You walk into the room With your pencil in y...</td>\n",
       "    </tr>\n",
       "    <tr>\n",
       "      <th>10</th>\n",
       "      <td>1985.0</td>\n",
       "      <td>{'Sometimes Im in the mood, I want to leave my...</td>\n",
       "    </tr>\n",
       "    <tr>\n",
       "      <th>32</th>\n",
       "      <td>1986.0</td>\n",
       "      <td>{'I didnt know that youd be leaving Or who you...</td>\n",
       "    </tr>\n",
       "    <tr>\n",
       "      <th>41</th>\n",
       "      <td>1988.0</td>\n",
       "      <td>{'The woman that I love she got a hook in her ...</td>\n",
       "    </tr>\n",
       "    <tr>\n",
       "      <th>43</th>\n",
       "      <td>1989.0</td>\n",
       "      <td>{'Crickets are chirping, the water is high The...</td>\n",
       "    </tr>\n",
       "    <tr>\n",
       "      <th>2</th>\n",
       "      <td>1990.0</td>\n",
       "      <td>{'One time in London Id gone out for a walk Pa...</td>\n",
       "    </tr>\n",
       "    <tr>\n",
       "      <th>20</th>\n",
       "      <td>1991.0</td>\n",
       "      <td>{'In the time of my confession, in the hour of...</td>\n",
       "    </tr>\n",
       "    <tr>\n",
       "      <th>16</th>\n",
       "      <td>1995.0</td>\n",
       "      <td>{'Come gather round people Wherever you roam A...</td>\n",
       "    </tr>\n",
       "    <tr>\n",
       "      <th>38</th>\n",
       "      <td>1997.0</td>\n",
       "      <td>{'Well my hearts in the Highlands gentle and f...</td>\n",
       "    </tr>\n",
       "    <tr>\n",
       "      <th>25</th>\n",
       "      <td>1998.0</td>\n",
       "      <td>{'When she said \"Dont waste your words, theyre...</td>\n",
       "    </tr>\n",
       "    <tr>\n",
       "      <th>14</th>\n",
       "      <td>2000.0</td>\n",
       "      <td>{'Standing on the waters   casting your bread ...</td>\n",
       "    </tr>\n",
       "    <tr>\n",
       "      <th>35</th>\n",
       "      <td>2001.0</td>\n",
       "      <td>{'Bye and bye, Im breathin a lovers sigh Im si...</td>\n",
       "    </tr>\n",
       "    <tr>\n",
       "      <th>6</th>\n",
       "      <td>2002.0</td>\n",
       "      <td>{'They say every man must need protection They...</td>\n",
       "    </tr>\n",
       "    <tr>\n",
       "      <th>5</th>\n",
       "      <td>2004.0</td>\n",
       "      <td>{'Hey Mr. Tambourine Man, play a song for me I...</td>\n",
       "    </tr>\n",
       "    <tr>\n",
       "      <th>4</th>\n",
       "      <td>2005.0</td>\n",
       "      <td>{'Come, you masters of war You that build the ...</td>\n",
       "    </tr>\n",
       "    <tr>\n",
       "      <th>28</th>\n",
       "      <td>2006.0</td>\n",
       "      <td>{'Thunder on the mountain, fires on the moon T...</td>\n",
       "    </tr>\n",
       "    <tr>\n",
       "      <th>0</th>\n",
       "      <td>2008.0</td>\n",
       "      <td>{'Broken lines, broken strings Broken threads,...</td>\n",
       "    </tr>\n",
       "    <tr>\n",
       "      <th>27</th>\n",
       "      <td>2009.0</td>\n",
       "      <td>{'Oh, well, I love ya pretty baby Youre the on...</td>\n",
       "    </tr>\n",
       "    <tr>\n",
       "      <th>9</th>\n",
       "      <td>2010.0</td>\n",
       "      <td>{'Sometimes Im in the mood, I want to leave my...</td>\n",
       "    </tr>\n",
       "    <tr>\n",
       "      <th>23</th>\n",
       "      <td>2011.0</td>\n",
       "      <td>{'Well, I was feelin sad and feelin blue I did...</td>\n",
       "    </tr>\n",
       "    <tr>\n",
       "      <th>45</th>\n",
       "      <td>2012.0</td>\n",
       "      <td>{'All the early Roman Kings in their sharkskin...</td>\n",
       "    </tr>\n",
       "    <tr>\n",
       "      <th>19</th>\n",
       "      <td>2013.0</td>\n",
       "      <td>{'Time passes slowly Up here in the mountains ...</td>\n",
       "    </tr>\n",
       "    <tr>\n",
       "      <th>11</th>\n",
       "      <td>2015.0</td>\n",
       "      <td>{'(Intro) Oh, the ragman draws circles Up and ...</td>\n",
       "    </tr>\n",
       "    <tr>\n",
       "      <th>36</th>\n",
       "      <td>2016.0</td>\n",
       "      <td>{'You will search, babe At any cost But how lo...</td>\n",
       "    </tr>\n",
       "    <tr>\n",
       "      <th>22</th>\n",
       "      <td>2017.0</td>\n",
       "      <td>{'Are you ready, are you ready? Are you ready,...</td>\n",
       "    </tr>\n",
       "    <tr>\n",
       "      <th>34</th>\n",
       "      <td>2018.0</td>\n",
       "      <td>{'They sat together in the park As the evening...</td>\n",
       "    </tr>\n",
       "    <tr>\n",
       "      <th>13</th>\n",
       "      <td>2019.0</td>\n",
       "      <td>{'\"There must be some way out of here\" Said th...</td>\n",
       "    </tr>\n",
       "    <tr>\n",
       "      <th>31</th>\n",
       "      <td>2020.0</td>\n",
       "      <td>{'I live on a street named after a Saint Women...</td>\n",
       "    </tr>\n",
       "    <tr>\n",
       "      <th>1</th>\n",
       "      <td>NaN</td>\n",
       "      <td>{'A tear goes down my day is real But your dry...</td>\n",
       "    </tr>\n",
       "  </tbody>\n",
       "</table>\n",
       "</div>"
      ],
      "text/plain": [
       "      year                                             lyrics\n",
       "46  1962.0  {'Im out here a thousand miles from my home Wa...\n",
       "7   1963.0  {'How many roads must a man walk down Before y...\n",
       "17  1964.0  {'Hollis Brown He lived on the outside of town...\n",
       "24  1965.0  {'Once upon a time you dressed so fine Threw t...\n",
       "3   1966.0  {'Early in the mornin Early in the mornin Im c...\n",
       "15  1967.0  {'I pity the poor immigrant Who wishes he woul...\n",
       "39  1969.0  {'I have heard rumors all over town They say t...\n",
       "18  1970.0  {'Cant you hear that rooster crowing? Rabbit r...\n",
       "8   1971.0  {'I aint lookin to compete with you Beat or ch...\n",
       "29  1973.0  {'Spend the night with some sweet senorita Int...\n",
       "42  1974.0  {'You angel, you Your essence got me under you...\n",
       "33  1975.0  {'Buckets of rain Buckets of tears Got all the...\n",
       "30  1976.0  {'I laid on a dune, I looked at the sky When t...\n",
       "37  1978.0  {'I think we better talk this over Maybe when ...\n",
       "12  1979.0  {'They say evrything can be replaced Yet evry ...\n",
       "21  1980.0  {'Are you ready, are you ready? Are you ready,...\n",
       "40  1981.0  {'Trouble in the city, trouble in the farm You...\n",
       "44  1983.0  {'Standing on the waters   casting your bread ...\n",
       "26  1984.0  {'You walk into the room With your pencil in y...\n",
       "10  1985.0  {'Sometimes Im in the mood, I want to leave my...\n",
       "32  1986.0  {'I didnt know that youd be leaving Or who you...\n",
       "41  1988.0  {'The woman that I love she got a hook in her ...\n",
       "43  1989.0  {'Crickets are chirping, the water is high The...\n",
       "2   1990.0  {'One time in London Id gone out for a walk Pa...\n",
       "20  1991.0  {'In the time of my confession, in the hour of...\n",
       "16  1995.0  {'Come gather round people Wherever you roam A...\n",
       "38  1997.0  {'Well my hearts in the Highlands gentle and f...\n",
       "25  1998.0  {'When she said \"Dont waste your words, theyre...\n",
       "14  2000.0  {'Standing on the waters   casting your bread ...\n",
       "35  2001.0  {'Bye and bye, Im breathin a lovers sigh Im si...\n",
       "6   2002.0  {'They say every man must need protection They...\n",
       "5   2004.0  {'Hey Mr. Tambourine Man, play a song for me I...\n",
       "4   2005.0  {'Come, you masters of war You that build the ...\n",
       "28  2006.0  {'Thunder on the mountain, fires on the moon T...\n",
       "0   2008.0  {'Broken lines, broken strings Broken threads,...\n",
       "27  2009.0  {'Oh, well, I love ya pretty baby Youre the on...\n",
       "9   2010.0  {'Sometimes Im in the mood, I want to leave my...\n",
       "23  2011.0  {'Well, I was feelin sad and feelin blue I did...\n",
       "45  2012.0  {'All the early Roman Kings in their sharkskin...\n",
       "19  2013.0  {'Time passes slowly Up here in the mountains ...\n",
       "11  2015.0  {'(Intro) Oh, the ragman draws circles Up and ...\n",
       "36  2016.0  {'You will search, babe At any cost But how lo...\n",
       "22  2017.0  {'Are you ready, are you ready? Are you ready,...\n",
       "34  2018.0  {'They sat together in the park As the evening...\n",
       "13  2019.0  {'\"There must be some way out of here\" Said th...\n",
       "31  2020.0  {'I live on a street named after a Saint Women...\n",
       "1      NaN  {'A tear goes down my day is real But your dry..."
      ]
     },
     "execution_count": 11,
     "metadata": {},
     "output_type": "execute_result"
    }
   ],
   "source": [
    "## Clean clean clean \n",
    "by_years.columns = ['year','lyrics']\n",
    "by_years = by_years.sort_values(by=['year'])\n",
    "by_years"
   ]
  },
  {
   "cell_type": "code",
   "execution_count": 86,
   "metadata": {},
   "outputs": [
    {
     "data": {
      "image/png": "[encoded data removed]",
      "text/plain": [
       "<Figure size 1200x600 with 1 Axes>"
      ]
     },
     "metadata": {
      "needs_background": "light"
     },
     "output_type": "display_data"
    }
   ],
   "source": [
    "def lby_year(by_year):\n",
    "    wrd_l = [len(song) for song in by_year['lyrics']]\n",
    "    years = [year for year in by_year['year']]\n",
    "    clubbed = pd.Series(wrd_l,years)\n",
    "    return clubbed\n",
    "word_length = lby_year(by_years)\n",
    "\n",
    "def plt_wrd(word_length):\n",
    "    plt.title(\"Total number of words in all songs released by year (1960-2020)\")\n",
    "    plt.plot(word_length,\"--.\")\n",
    "plt.grid('on')\n",
    "plt_wrd(word_length)"
   ]
  },
  {
   "cell_type": "code",
   "execution_count": 13,
   "metadata": {},
   "outputs": [],
   "source": [
    "## Corpus Based Analysis : "
   ]
  },
  {
   "cell_type": "code",
   "execution_count": 14,
   "metadata": {},
   "outputs": [],
   "source": [
    "read_corpus = pd.read_csv(dylan_corpus)\n",
    "read_corpus.columns = ['Sr. No',\"Dylan's Corpus\"]"
   ]
  },
  {
   "cell_type": "code",
   "execution_count": 15,
   "metadata": {},
   "outputs": [
    {
     "data": {
      "text/html": [
       "<div>\n",
       "<style scoped>\n",
       "    .dataframe tbody tr th:only-of-type {\n",
       "        vertical-align: middle;\n",
       "    }\n",
       "\n",
       "    .dataframe tbody tr th {\n",
       "        vertical-align: top;\n",
       "    }\n",
       "\n",
       "    .dataframe thead th {\n",
       "        text-align: right;\n",
       "    }\n",
       "</style>\n",
       "<table border=\"1\" class=\"dataframe\">\n",
       "  <thead>\n",
       "    <tr style=\"text-align: right;\">\n",
       "      <th></th>\n",
       "      <th>Sr. No</th>\n",
       "      <th>Dylan's Corpus</th>\n",
       "    </tr>\n",
       "  </thead>\n",
       "  <tbody>\n",
       "    <tr>\n",
       "      <th>0</th>\n",
       "      <td>0</td>\n",
       "      <td>'Go ahead, drive the nails through my hand Lau...</td>\n",
       "    </tr>\n",
       "  </tbody>\n",
       "</table>\n",
       "</div>"
      ],
      "text/plain": [
       "   Sr. No                                     Dylan's Corpus\n",
       "0       0  'Go ahead, drive the nails through my hand Lau..."
      ]
     },
     "execution_count": 15,
     "metadata": {},
     "output_type": "execute_result"
    }
   ],
   "source": [
    "read_corpus"
   ]
  },
  {
   "cell_type": "code",
   "execution_count": 16,
   "metadata": {},
   "outputs": [
    {
     "data": {
      "text/plain": [
       "\"'Go ahead, drive the nails through my hand Laugh at me where you stand Go ahead, say it isnt me But the day will come That you will see  Cause Ill rise again Aint no power on Earth can tie me down Yes, Ill rise again Death cant keep me buried in the ground  Go ahead and mock my name You will see, Im still the same Go ahead, try to bury me Very, very soon I will be free  Cause Ill rise again Aint no power on Earth can tie me now And Ill rise again Death cant keep me buried in the ground  Go ahead, say Im dead and gone You will see that you were wrong Go ahead, try to hide the Son But the day will come When youll see Im the one  Cause Ill rise again Aint no power on Earth can tie me down Yes, Ill rise again Death cant keep me buried in the ground''Unlike most of the songs nowadays that have been written up in Tin Pan Alley, thats where most of the folk songs come from nowadays, this, this is a song, this wasnt written up there, this was written somewhere down in the United States  Well, \""
      ]
     },
     "execution_count": 16,
     "metadata": {},
     "output_type": "execute_result"
    }
   ],
   "source": [
    "corpus = [corpus for corpus in read_corpus[\"Dylan's Corpus\"]]\n",
    "corpus[0][:1000]"
   ]
  },
  {
   "cell_type": "code",
   "execution_count": 17,
   "metadata": {},
   "outputs": [
    {
     "data": {
      "text/plain": [
       "[\"'\", 'Go', 'ahead', ',', 'drive', 'the', 'nails', 'through', 'my', 'hand']"
      ]
     },
     "execution_count": 17,
     "metadata": {},
     "output_type": "execute_result"
    }
   ],
   "source": [
    "for i in corpus:\n",
    "    corpus_tokenized = nltk.wordpunct_tokenize(i)\n",
    "corpus_tokenized[:10]"
   ]
  },
  {
   "cell_type": "code",
   "execution_count": 18,
   "metadata": {},
   "outputs": [],
   "source": [
    "corpus_words = [word for word in corpus_tokenized if word.isalpha()]"
   ]
  },
  {
   "cell_type": "code",
   "execution_count": 19,
   "metadata": {},
   "outputs": [
    {
     "name": "stdout",
     "output_type": "stream",
     "text": [
      "For artist Bob Dylan\n",
      "1) Total number of tokens are 183085\n",
      "2) Total number of types are 10187\n",
      "3) Vocab count 8602\n"
     ]
    }
   ],
   "source": [
    "tokens = len(corpus_tokenized)\n",
    "vocabulary = len(set(word.lower() for word in corpus_tokenized if word.isalpha()))\n",
    "types = len(set(corpus_tokenized))\n",
    "print(f\"For artist Bob Dylan\\n1) Total number of tokens are {tokens}\\n2) Total number of types are {types}\\n3) Vocab count {vocabulary}\")"
   ]
  },
  {
   "cell_type": "markdown",
   "metadata": {},
   "source": [
    "### 2) Lexical Deversity and Occurances \n",
    "#### Lexical Deversity is defined as ::"
   ]
  },
  {
   "cell_type": "code",
   "execution_count": 20,
   "metadata": {},
   "outputs": [
    {
     "name": "stdout",
     "output_type": "stream",
     "text": [
      "Bob Dylan's Lexical Deversity is: 0.04698364147800202 or 4.698364147800202 %\n"
     ]
    }
   ],
   "source": [
    "def lex_div(corpus):\n",
    "    lex_div = vocabulary / len(corpus)\n",
    "    print(f\"Bob Dylan's Lexical Deversity is: {lex_div} or {lex_div*100} %\")\n",
    "lex_div(corpus_tokenized)"
   ]
  },
  {
   "cell_type": "code",
   "execution_count": null,
   "metadata": {},
   "outputs": [],
   "source": []
  },
  {
   "cell_type": "code",
   "execution_count": null,
   "metadata": {},
   "outputs": [],
   "source": []
  },
  {
   "cell_type": "code",
   "execution_count": null,
   "metadata": {},
   "outputs": [],
   "source": []
  },
  {
   "cell_type": "markdown",
   "metadata": {},
   "source": [
    "### Or can also be visualized as : \n",
    "### Occurances ::  See how many times words like love/hate/she/he appers\n",
    "#### Hypothesis : There is only one song in which Bob Dylan mentions the name \"Sara\", hence should occur at only one particular section"
   ]
  },
  {
   "cell_type": "code",
   "execution_count": null,
   "metadata": {},
   "outputs": [],
   "source": []
  },
  {
   "cell_type": "code",
   "execution_count": null,
   "metadata": {},
   "outputs": [],
   "source": []
  },
  {
   "cell_type": "code",
   "execution_count": 21,
   "metadata": {},
   "outputs": [
    {
     "name": "stdout",
     "output_type": "stream",
     "text": [
      "0.00436955512466887 % of the corpus is taken by word 'clown'\n",
      "0.013108665374006609 % of the corpus is taken by word 'Sara'\n",
      "0.27746675041647323 % of the corpus is taken by word 'she'\n",
      "0.21629297867110905 % of the corpus is taken by word 'She'\n"
     ]
    }
   ],
   "source": [
    "corpus_text = nltk.Text(corpus_tokenized)\n",
    "def occurs(words):\n",
    "    for word in words:\n",
    "        count = corpus_text.count(word)\n",
    "        as_per = 100 * count / len(corpus_text)\n",
    "        print(f\"{as_per} % of the corpus is taken by word '{word}'\")\n",
    "        \n",
    "occurs([\"clown\",\"Sara\",\"she\",\"She\"])"
   ]
  },
  {
   "cell_type": "code",
   "execution_count": 22,
   "metadata": {},
   "outputs": [
    {
     "data": {
      "image/png": "[encoded data removed]",
      "text/plain": [
       "<Figure size 1200x600 with 1 Axes>"
      ]
     },
     "metadata": {
      "needs_background": "light"
     },
     "output_type": "display_data"
    }
   ],
   "source": [
    "corpus_text.dispersion_plot(['she','he','love','clown','Sara'])"
   ]
  },
  {
   "cell_type": "markdown",
   "metadata": {},
   "source": [
    "### Fast Facts :"
   ]
  },
  {
   "cell_type": "code",
   "execution_count": 23,
   "metadata": {},
   "outputs": [
    {
     "name": "stdout",
     "output_type": "stream",
     "text": [
      "Largest word in Bob Dylan's Corpus is : 'interchangeable' with length 15.\n"
     ]
    }
   ],
   "source": [
    "largest_word = sorted(set(corpus_tokenized), key=len,reverse=True)[0]\n",
    "print(f\"Largest word in Bob Dylan's Corpus is : '{largest_word}' with length {len(largest_word)}.\")"
   ]
  },
  {
   "cell_type": "markdown",
   "metadata": {},
   "source": [
    "### Average word length"
   ]
  },
  {
   "cell_type": "code",
   "execution_count": 24,
   "metadata": {},
   "outputs": [
    {
     "data": {
      "text/plain": [
       "3.9357830958184885"
      ]
     },
     "execution_count": 24,
     "metadata": {},
     "output_type": "execute_result"
    }
   ],
   "source": [
    "length = list(map(len, corpus_words))\n",
    "sum(length) / len(length)"
   ]
  },
  {
   "cell_type": "markdown",
   "metadata": {},
   "source": [
    "### Frquency of words:"
   ]
  },
  {
   "cell_type": "code",
   "execution_count": 25,
   "metadata": {},
   "outputs": [],
   "source": [
    "freq_dist = nltk.FreqDist(word.lower() for word in corpus_tokenized if word.isalpha())"
   ]
  },
  {
   "cell_type": "code",
   "execution_count": 26,
   "metadata": {},
   "outputs": [
    {
     "data": {
      "text/plain": [
       "[('the', 8634),\n",
       " ('i', 4741),\n",
       " ('you', 4493),\n",
       " ('and', 4455),\n",
       " ('to', 4300),\n",
       " ('a', 3855),\n",
       " ('in', 2791),\n",
       " ('of', 2524),\n",
       " ('me', 1865),\n",
       " ('my', 1820),\n",
       " ('that', 1744),\n",
       " ('it', 1716),\n",
       " ('on', 1541),\n",
       " ('your', 1451),\n",
       " ('he', 1252),\n",
       " ('for', 1226),\n",
       " ('all', 1204),\n",
       " ('was', 1199),\n",
       " ('is', 1180),\n",
       " ('but', 1145),\n",
       " ('be', 1092),\n",
       " ('im', 1052),\n",
       " ('with', 1014),\n",
       " ('she', 904),\n",
       " ('they', 844)]"
      ]
     },
     "execution_count": 26,
     "metadata": {},
     "output_type": "execute_result"
    }
   ],
   "source": [
    "freq_dist.most_common(25)"
   ]
  },
  {
   "cell_type": "markdown",
   "metadata": {},
   "source": [
    "### Hapaxes"
   ]
  },
  {
   "cell_type": "code",
   "execution_count": 27,
   "metadata": {},
   "outputs": [],
   "source": [
    "hapaxes = freq_dist.hapaxes()"
   ]
  },
  {
   "cell_type": "code",
   "execution_count": 28,
   "metadata": {},
   "outputs": [
    {
     "name": "stdout",
     "output_type": "stream",
     "text": [
      "Total number of Hapaxes : 2792 or 32.45756800744013 % of the total corpus\n"
     ]
    }
   ],
   "source": [
    "print(f\"Total number of Hapaxes : {len(hapaxes)} or {100 * len(hapaxes)/vocabulary} % of the total corpus\")"
   ]
  },
  {
   "cell_type": "code",
   "execution_count": 29,
   "metadata": {},
   "outputs": [
    {
     "data": {
      "text/plain": [
       "['ranger',\n",
       " 'tonto',\n",
       " 'fixing',\n",
       " 'shooter',\n",
       " 'taketh',\n",
       " 'teacheth',\n",
       " 'builder',\n",
       " 'rainbows',\n",
       " 'shapeth',\n",
       " 'turneth',\n",
       " 'dwells',\n",
       " 'solemnly',\n",
       " 'lincolns',\n",
       " 'bombed',\n",
       " 'bled',\n",
       " 'lynching',\n",
       " 'gladiators',\n",
       " 'cheered',\n",
       " 'tread',\n",
       " 'dread',\n",
       " 'shedding',\n",
       " 'layer',\n",
       " 'persecutor',\n",
       " 'manipulator',\n",
       " 'sodom']"
      ]
     },
     "execution_count": 29,
     "metadata": {},
     "output_type": "execute_result"
    }
   ],
   "source": [
    "hapaxes[:25]"
   ]
  },
  {
   "cell_type": "markdown",
   "metadata": {},
   "source": [
    "## Zipfs"
   ]
  },
  {
   "cell_type": "code",
   "execution_count": 30,
   "metadata": {},
   "outputs": [
    {
     "data": {
      "text/plain": [
       "[<matplotlib.lines.Line2D at 0x1c247fce640>]"
      ]
     },
     "execution_count": 30,
     "metadata": {},
     "output_type": "execute_result"
    },
    {
     "data": {
      "image/png": "[encoded data removed]",
      "text/plain": [
       "<Figure size 1200x600 with 1 Axes>"
      ]
     },
     "metadata": {
      "needs_background": "light"
     },
     "output_type": "display_data"
    }
   ],
   "source": [
    "words = [w for w in corpus_tokenized if w.isalpha()]\n",
    "fdist = nltk.FreqDist(words)\n",
    "e = [no for no in fdist.values()]\n",
    "counts = sorted(e,reverse=True)\n",
    "plt.figure()\n",
    "plt.yscale('log')\n",
    "plt.xscale('log')\n",
    "plt.plot(counts)"
   ]
  },
  {
   "cell_type": "markdown",
   "metadata": {},
   "source": [
    "### According to the figure above, we can confirm Zipf's law. At the extreme right end of the plotted line, there are apparent steps, which means that a lot of words have quite low occurences. At the extreme left end, the line is quite flat, which means the frequencies of the first few most frequent words are close that they do not drop as quickly as the ones ranking in the middle."
   ]
  },
  {
   "cell_type": "code",
   "execution_count": 31,
   "metadata": {},
   "outputs": [],
   "source": [
    "as_dict = pd.Series(by_years.lyrics.values,index=by_years.year).to_dict()\n",
    "years = [\"'\"+str(year)[2:-2] for year in as_dict.keys()]"
   ]
  },
  {
   "cell_type": "markdown",
   "metadata": {},
   "source": [
    "### Question beggin through years"
   ]
  },
  {
   "cell_type": "code",
   "execution_count": 32,
   "metadata": {},
   "outputs": [],
   "source": [
    "quest_dict = {}\n",
    "def question(df):\n",
    "    year = 0\n",
    "    for song in df.lyrics.values:\n",
    "        year += 1\n",
    "        qm = song.count(\"?\")\n",
    "        quest_dict[year] = qm\n",
    "    return quest_dict\n",
    "question = question(by_years)\n",
    "question_by_years = dict(zip(years[:-1], list(question.values()))) "
   ]
  },
  {
   "cell_type": "code",
   "execution_count": 33,
   "metadata": {},
   "outputs": [],
   "source": [
    "# plt.xticks(rotation='vertical')\n",
    "# plt.plot(list(question_by_years.keys()),list(question_by_years.values()),\".-.\")"
   ]
  },
  {
   "cell_type": "code",
   "execution_count": null,
   "metadata": {},
   "outputs": [],
   "source": []
  },
  {
   "cell_type": "code",
   "execution_count": null,
   "metadata": {},
   "outputs": [],
   "source": []
  },
  {
   "cell_type": "code",
   "execution_count": null,
   "metadata": {},
   "outputs": [],
   "source": []
  },
  {
   "cell_type": "code",
   "execution_count": null,
   "metadata": {},
   "outputs": [],
   "source": []
  },
  {
   "cell_type": "code",
   "execution_count": null,
   "metadata": {},
   "outputs": [],
   "source": []
  },
  {
   "cell_type": "code",
   "execution_count": null,
   "metadata": {},
   "outputs": [],
   "source": []
  },
  {
   "cell_type": "code",
   "execution_count": null,
   "metadata": {},
   "outputs": [],
   "source": []
  },
  {
   "cell_type": "code",
   "execution_count": null,
   "metadata": {},
   "outputs": [],
   "source": []
  },
  {
   "cell_type": "code",
   "execution_count": null,
   "metadata": {},
   "outputs": [],
   "source": []
  },
  {
   "cell_type": "code",
   "execution_count": null,
   "metadata": {},
   "outputs": [],
   "source": []
  },
  {
   "cell_type": "markdown",
   "metadata": {},
   "source": [
    "### Collocations (Bigrams/Trigrams) in Dylan's Corpus\n",
    "#### Makes sense, sheer amount of repitation in songs. As expected most of the bigrams are just song names or hooks in the songs (Idiot wind ( song title ) / jingle jangle (Mr. Tambourine Man)) etc"
   ]
  },
  {
   "cell_type": "code",
   "execution_count": 34,
   "metadata": {},
   "outputs": [
    {
     "name": "stdout",
     "output_type": "stream",
     "text": [
      "Key West; New York; true love; Tambourine Man; dont know; Idiot wind;\n",
      "heavens door; neighborhood bully; Theyll stone; Memphis blues;\n",
      "Desolation Row; door Knock; stuck inside; Queen Jane; far away; Wanted\n",
      "man; simple twist; serve somebody; Handy Dandy; jingle jangle\n"
     ]
    }
   ],
   "source": [
    "corpus_text.collocations()"
   ]
  },
  {
   "cell_type": "markdown",
   "metadata": {},
   "source": [
    "### Most common n-grams \n",
    "#### 1) bigrams 2) trigrams 3) 4-gram 4) 5-gram \n"
   ]
  },
  {
   "cell_type": "code",
   "execution_count": 35,
   "metadata": {},
   "outputs": [],
   "source": [
    "bigrams = nltk.FreqDist(ngrams(corpus_words,2)).most_common(10)\n",
    "trigrams = nltk.FreqDist(ngrams(corpus_words,3)).most_common(10)\n",
    "grams_4 = nltk.FreqDist(ngrams(corpus_words,4)).most_common(10)\n",
    "grams_5 = nltk.FreqDist(ngrams(corpus_words,5)).most_common(10)"
   ]
  },
  {
   "cell_type": "code",
   "execution_count": 36,
   "metadata": {},
   "outputs": [
    {
     "data": {
      "text/plain": [
       "[(('in', 'the'), 973),\n",
       " (('on', 'the'), 456),\n",
       " (('of', 'the'), 441),\n",
       " (('to', 'the'), 402),\n",
       " (('I', 'was'), 260),\n",
       " (('to', 'be'), 256),\n",
       " (('I', 'dont'), 224),\n",
       " (('in', 'a'), 224),\n",
       " (('from', 'the'), 221),\n",
       " (('and', 'the'), 209)]"
      ]
     },
     "execution_count": 36,
     "metadata": {},
     "output_type": "execute_result"
    }
   ],
   "source": [
    "bigrams"
   ]
  },
  {
   "cell_type": "code",
   "execution_count": null,
   "metadata": {},
   "outputs": [],
   "source": []
  },
  {
   "cell_type": "code",
   "execution_count": null,
   "metadata": {},
   "outputs": [],
   "source": []
  },
  {
   "cell_type": "code",
   "execution_count": null,
   "metadata": {},
   "outputs": [],
   "source": []
  },
  {
   "cell_type": "code",
   "execution_count": 37,
   "metadata": {},
   "outputs": [],
   "source": [
    "# trigrams"
   ]
  },
  {
   "cell_type": "code",
   "execution_count": 38,
   "metadata": {
    "scrolled": true
   },
   "outputs": [],
   "source": [
    "# grams_4"
   ]
  },
  {
   "cell_type": "code",
   "execution_count": 39,
   "metadata": {},
   "outputs": [],
   "source": [
    "# grams_5"
   ]
  },
  {
   "cell_type": "code",
   "execution_count": null,
   "metadata": {},
   "outputs": [],
   "source": []
  },
  {
   "cell_type": "code",
   "execution_count": null,
   "metadata": {},
   "outputs": [],
   "source": []
  },
  {
   "cell_type": "code",
   "execution_count": null,
   "metadata": {},
   "outputs": [],
   "source": []
  },
  {
   "cell_type": "code",
   "execution_count": 40,
   "metadata": {},
   "outputs": [],
   "source": [
    "# cfd = nltk.ConditionalFreqDist((year,word) \n",
    "#                                for year in years\n",
    "#                                for word in as_dict[year].split())"
   ]
  },
  {
   "cell_type": "code",
   "execution_count": null,
   "metadata": {},
   "outputs": [],
   "source": []
  },
  {
   "cell_type": "markdown",
   "metadata": {},
   "source": [
    "### for ARI through years , use sentence segmentation \n",
    "Punkt sentence segmenter"
   ]
  },
  {
   "cell_type": "markdown",
   "metadata": {},
   "source": [
    "## Segmentation"
   ]
  },
  {
   "cell_type": "code",
   "execution_count": null,
   "metadata": {},
   "outputs": [],
   "source": []
  },
  {
   "cell_type": "code",
   "execution_count": null,
   "metadata": {},
   "outputs": [],
   "source": []
  },
  {
   "cell_type": "markdown",
   "metadata": {},
   "source": [
    "### The Automated Readability Index (ARI) of the text is defined to be: 4.71 μw + 0.5 μs - 21.43\n",
    "#### Let us define μw to be the average number of letters per word, and μs to be the average number of words per sentence, in a given text. "
   ]
  },
  {
   "cell_type": "code",
   "execution_count": 41,
   "metadata": {},
   "outputs": [],
   "source": [
    "# ari_dict = {}\n",
    "# def ari(df):\n",
    "#     year = 0\n",
    "#     for song in df.lyrics.values:\n",
    "#         year += 1\n",
    "#         punkted = nltk.sent_tokenize(song)\n",
    "#         uw = list(map(len, punkted))\n",
    "#         avg_uw = sum(uw) / len(uw)\n",
    "#         us = [len(sent.split()) for sent in punkted]\n",
    "#         avg_us = sum(us) / len(us)\n",
    "#         ari = 4.71 * avg_uw + 0.5 * avg_us - 21.43    \n",
    "#         ari_dict[year] = round(ari/1000)\n",
    "#     return ari_dict\n",
    "# ari = ari(by_years)\n",
    "# ari_by_years = dict(zip(years[:-1], list(ari.values()))) "
   ]
  },
  {
   "cell_type": "code",
   "execution_count": null,
   "metadata": {
    "scrolled": true
   },
   "outputs": [],
   "source": []
  },
  {
   "cell_type": "code",
   "execution_count": 42,
   "metadata": {
    "scrolled": false
   },
   "outputs": [],
   "source": [
    "# plt.xticks(rotation='vertical')\n",
    "# plt.plot(list(ari_by_years.keys()),list(ari_by_years.values()))"
   ]
  },
  {
   "cell_type": "code",
   "execution_count": null,
   "metadata": {
    "scrolled": true
   },
   "outputs": [],
   "source": []
  },
  {
   "cell_type": "markdown",
   "metadata": {},
   "source": [
    "## Wordcloud"
   ]
  },
  {
   "cell_type": "code",
   "execution_count": 43,
   "metadata": {},
   "outputs": [],
   "source": [
    "from nltk.corpus import stopwords\n",
    "stop_words = set(stopwords.words('english'))"
   ]
  },
  {
   "cell_type": "code",
   "execution_count": 44,
   "metadata": {},
   "outputs": [],
   "source": [
    "def cleaner(c_w):\n",
    "    cw = [word for word in c_w if word.lower() not in stop_words]\n",
    "    return cw"
   ]
  },
  {
   "cell_type": "code",
   "execution_count": 45,
   "metadata": {},
   "outputs": [],
   "source": [
    "t = cleaner(corpus_words)\n",
    "f = ''\n",
    "for i in t:\n",
    "    f += i + ' '\n",
    "f = (f)"
   ]
  },
  {
   "cell_type": "code",
   "execution_count": 46,
   "metadata": {},
   "outputs": [],
   "source": [
    "# from PIL import Image\n",
    "# from wordcloud import WordCloud, STOPWORDS\n",
    "# import cv2"
   ]
  },
  {
   "cell_type": "code",
   "execution_count": 47,
   "metadata": {},
   "outputs": [],
   "source": [
    "# mask = cv2.imread(r\"C:/Users/jayes/Desktop/martin-dupuis_glazer_11.jpg\",1)"
   ]
  },
  {
   "cell_type": "code",
   "execution_count": 48,
   "metadata": {},
   "outputs": [],
   "source": [
    "# stopwords = STOPWORDS\n",
    "# stopwords.update(['us', 'one', 'will', 'said', 'now', 'well', 'man', 'may',\n",
    "#  'little', 'say', 'must', 'way', 'long', 'yet', 'mean',\n",
    "#  'put', 'seem', 'asked', 'made', 'half', 'much',\n",
    "#  'certainly', 'might', 'came','say','well','dont','got','know','see','Im','aint','youre','theres','Ive'])"
   ]
  },
  {
   "cell_type": "code",
   "execution_count": 49,
   "metadata": {},
   "outputs": [],
   "source": [
    "# wc = WordCloud(max_words=1000,\n",
    "#      relative_scaling=0.5,\n",
    "#      background_color='white',\n",
    "#      margin=0,\n",
    "#      mask=mask,\n",
    "#      stopwords=stopwords,\n",
    "#      random_state=7,\n",
    "#      contour_width=0,\n",
    "#      contour_color='white',\n",
    "#      colormap='copper').generate(f)\n",
    "# colors = wc.to_array()"
   ]
  },
  {
   "cell_type": "code",
   "execution_count": 50,
   "metadata": {},
   "outputs": [],
   "source": [
    "# plt.figure()\n",
    "# plt.imshow(colors, interpolation=\"bilinear\")\n",
    "# plt.axis('off')\n",
    "# plt.show()"
   ]
  },
  {
   "cell_type": "code",
   "execution_count": null,
   "metadata": {},
   "outputs": [],
   "source": []
  },
  {
   "cell_type": "code",
   "execution_count": null,
   "metadata": {},
   "outputs": [],
   "source": []
  },
  {
   "cell_type": "code",
   "execution_count": 51,
   "metadata": {},
   "outputs": [],
   "source": [
    "from itertools import chain\n",
    "from nltk.corpus import wordnet as wn\n",
    "import inflect"
   ]
  },
  {
   "cell_type": "code",
   "execution_count": 52,
   "metadata": {},
   "outputs": [],
   "source": [
    "p = inflect.engine()"
   ]
  },
  {
   "cell_type": "markdown",
   "metadata": {},
   "source": [
    "# Common Motifs \n",
    "### Synsets Perhaps?"
   ]
  },
  {
   "cell_type": "markdown",
   "metadata": {},
   "source": [
    "clean the corpus of stopwords, puncts - Done\n",
    "extract all nouns\n",
    "make a set out of it \n",
    "for each word make a synset\n",
    "show words with max synsets :: DOne!!"
   ]
  },
  {
   "cell_type": "markdown",
   "metadata": {},
   "source": [
    "#### NN\tnoun, singular (cat, tree)\n",
    "#### NNS\tnoun plural (desks)\n",
    "#### NNP\tproper noun, singular (sarah)\n",
    "#### NNPS proper noun, plural (indians or americans)"
   ]
  },
  {
   "cell_type": "code",
   "execution_count": 53,
   "metadata": {},
   "outputs": [],
   "source": [
    "# tokenized = nltk.word_tokenize(f)\n",
    "# sing_n = {sets[0] for sets in nltk.pos_tag(tokenized) if sets[1] == 'NN'}\n",
    "# plu_n = {sets[0] for sets in nltk.pos_tag(tokenized) if sets[1] == 'NNS'}\n",
    "# sing_prop_n = {sets[0] for sets in nltk.pos_tag(tokenized) if sets[1] == 'NNP'}\n",
    "# plu_prop_n = {sets[0] for sets in nltk.pos_tag(tokenized) if sets[1] == 'NNPS'}\n",
    "# nouns = set(chain(sing_n,plu_n,sing_prop_n,plu_prop_n))"
   ]
  },
  {
   "cell_type": "code",
   "execution_count": 54,
   "metadata": {},
   "outputs": [],
   "source": [
    "# plural_nouns = set()\n",
    "# for word in nouns:\n",
    "#     sing = p.singular_noun(word)\n",
    "#     if sing:\n",
    "#         plural_nouns.add(sing)\n",
    "#     else:\n",
    "#         plural_nouns.add(word)"
   ]
  },
  {
   "cell_type": "code",
   "execution_count": 55,
   "metadata": {},
   "outputs": [],
   "source": [
    "gg = ''\n",
    "for i in corpus:\n",
    "    gg += i + ' '\n",
    "gg = (gg)"
   ]
  },
  {
   "cell_type": "markdown",
   "metadata": {},
   "source": [
    "#### Locate all the geographical places mentioned in the song"
   ]
  },
  {
   "cell_type": "code",
   "execution_count": 56,
   "metadata": {},
   "outputs": [],
   "source": [
    "import spacy"
   ]
  },
  {
   "cell_type": "code",
   "execution_count": null,
   "metadata": {},
   "outputs": [],
   "source": []
  },
  {
   "cell_type": "code",
   "execution_count": 57,
   "metadata": {},
   "outputs": [],
   "source": [
    "def entityreco(text):\n",
    "#     person = set()\n",
    "#     norp = set()\n",
    "#     fac = set()\n",
    "#     gpe = set()\n",
    "#     loc = set()\n",
    "#     product = set()\n",
    "#     event = set()\n",
    "#     works = set()\n",
    "#     lang = set()\n",
    "    \n",
    "    person = []\n",
    "    norp = []\n",
    "    fac = []\n",
    "    gpe = []\n",
    "    loc = []\n",
    "    event = []\n",
    "    works = []\n",
    "    lang = []\n",
    "    \n",
    "    nlp = spacy.load(\"en_core_web_sm\")\n",
    "    doc = nlp(text)\n",
    "    for entity in doc.ents:\n",
    "#         if entity.label_ == \"PERSON\":\n",
    "#             person.add(entity)\n",
    "#         if entity.label_ == \"NORP\":\n",
    "#             norp.add(entity)\n",
    "#         if entity.label_ == \"FAC\":\n",
    "#             fac.add(entity)  \n",
    "#         if entity.label_ == \"GPE\":\n",
    "#             gpe.add(entity)\n",
    "#         if entity.label_ == \"LOC\":\n",
    "#             loc.add(entity)\n",
    "#         if entity.label_ == \"EVENT\":\n",
    "#             event.add(entity)\n",
    "#         if entity.label_ == \"WORK_OF_ART\":\n",
    "#             works.add(entity)\n",
    "#         if entity.label_ == \"LANGUAGE\":\n",
    "#             lang.add(entity)\n",
    "            \n",
    "        if entity.label_ == \"PERSON\":\n",
    "            person.append(entity)\n",
    "        if entity.label_ == \"NORP\":\n",
    "            norp.append(entity)\n",
    "        if entity.label_ == \"FAC\":\n",
    "            fac.append(entity)  \n",
    "        if entity.label_ == \"GPE\":\n",
    "            gpe.append(entity)\n",
    "        if entity.label_ == \"LOC\":\n",
    "            loc.append(entity)\n",
    "        if entity.label_ == \"EVENT\":\n",
    "            event.append(entity)\n",
    "        if entity.label_ == \"WORK_OF_ART\":\n",
    "            works.append(entity)\n",
    "        if entity.label_ == \"LANGUAGE\":\n",
    "            lang.append(entity)    \n",
    "                     \n",
    "    print(\"person : \",(set(person)))\n",
    "    print(\"norp : \",(set(norp)))\n",
    "    print(\"fac : \",(set(fac)))\n",
    "    print(\"gpe : \",(set(gpe)))\n",
    "    print(\"loc : \",(set(loc)))\n",
    "    print(\"event : \",(set(event)))\n",
    "    print(\"works : \",(set(works)))\n",
    "    print(\"lang : \",(set(lang)))"
   ]
  },
  {
   "cell_type": "code",
   "execution_count": null,
   "metadata": {},
   "outputs": [],
   "source": []
  },
  {
   "cell_type": "code",
   "execution_count": 58,
   "metadata": {
    "scrolled": true
   },
   "outputs": [],
   "source": [
    "# entityreco(gg)"
   ]
  },
  {
   "cell_type": "code",
   "execution_count": null,
   "metadata": {},
   "outputs": [],
   "source": []
  },
  {
   "cell_type": "code",
   "execution_count": null,
   "metadata": {},
   "outputs": [],
   "source": []
  },
  {
   "cell_type": "code",
   "execution_count": null,
   "metadata": {},
   "outputs": [],
   "source": []
  },
  {
   "cell_type": "markdown",
   "metadata": {},
   "source": [
    "### Can go deep--- use hyponyms : Suppose if our motif is weather he uses \"artist\" a lot then search for its hyponums, that is what kind of artist does he mention the most"
   ]
  },
  {
   "cell_type": "code",
   "execution_count": null,
   "metadata": {},
   "outputs": [],
   "source": []
  },
  {
   "cell_type": "code",
   "execution_count": null,
   "metadata": {},
   "outputs": [],
   "source": []
  },
  {
   "cell_type": "code",
   "execution_count": 59,
   "metadata": {},
   "outputs": [],
   "source": [
    "# all_l = {}\n",
    "# res = defaultdict(set)\n",
    "# for noun in plural_nouns:\n",
    "#     t = wn.synsets(noun)\n",
    "#     if t is not None:\n",
    "#         lemma = set()\n",
    "#         for synset in t:\n",
    "#             l = {l for l in synset.lemma_names()}\n",
    "#             lemma.update(l) \n",
    "#         all_l[noun] = lemma\n",
    "# for key,val in all_l.items():\n",
    "#     count = 0\n",
    "#     for ent in val:\n",
    "#         if ent in plural_nouns:\n",
    "#             count += 1\n",
    "#     res[count].add(key)"
   ]
  },
  {
   "cell_type": "code",
   "execution_count": null,
   "metadata": {},
   "outputs": [],
   "source": []
  },
  {
   "cell_type": "code",
   "execution_count": null,
   "metadata": {},
   "outputs": [],
   "source": []
  },
  {
   "cell_type": "markdown",
   "metadata": {},
   "source": [
    "## Could've said joker and clown but sysnset doesn;t habe joker in it, so lemme add here!"
   ]
  },
  {
   "cell_type": "code",
   "execution_count": null,
   "metadata": {},
   "outputs": [],
   "source": []
  },
  {
   "cell_type": "code",
   "execution_count": 290,
   "metadata": {},
   "outputs": [],
   "source": [
    "from nltk.sentiment.vader import SentimentIntensityAnalyzer"
   ]
  },
  {
   "cell_type": "code",
   "execution_count": 291,
   "metadata": {},
   "outputs": [],
   "source": [
    "sid = SentimentIntensityAnalyzer()"
   ]
  },
  {
   "cell_type": "code",
   "execution_count": 292,
   "metadata": {},
   "outputs": [],
   "source": [
    "negative = []\n",
    "neutral = []\n",
    "positive = []\n",
    "compound = []"
   ]
  },
  {
   "cell_type": "code",
   "execution_count": null,
   "metadata": {},
   "outputs": [],
   "source": []
  },
  {
   "cell_type": "code",
   "execution_count": null,
   "metadata": {},
   "outputs": [],
   "source": []
  },
  {
   "cell_type": "code",
   "execution_count": 293,
   "metadata": {},
   "outputs": [],
   "source": [
    "avg_word_length = 14"
   ]
  },
  {
   "cell_type": "code",
   "execution_count": 294,
   "metadata": {},
   "outputs": [],
   "source": [
    "xpp = [corpus_words[i:i + avg_word_length] for i in range(0, len(corpus_words), avg_word_length)] "
   ]
  },
  {
   "cell_type": "code",
   "execution_count": 295,
   "metadata": {},
   "outputs": [],
   "source": [
    "def xpp(corpus_words,avg_word_length):\n",
    "    xpp = [corpus_words[i:i + avg_word_length] for i in range(0, len(corpus_words), avg_word_length)] \n",
    "    return xpp"
   ]
  },
  {
   "cell_type": "code",
   "execution_count": null,
   "metadata": {},
   "outputs": [],
   "source": []
  },
  {
   "cell_type": "code",
   "execution_count": null,
   "metadata": {},
   "outputs": [],
   "source": []
  },
  {
   "cell_type": "code",
   "execution_count": 296,
   "metadata": {},
   "outputs": [
    {
     "data": {
      "text/html": [
       "<div>\n",
       "<style scoped>\n",
       "    .dataframe tbody tr th:only-of-type {\n",
       "        vertical-align: middle;\n",
       "    }\n",
       "\n",
       "    .dataframe tbody tr th {\n",
       "        vertical-align: top;\n",
       "    }\n",
       "\n",
       "    .dataframe thead th {\n",
       "        text-align: right;\n",
       "    }\n",
       "</style>\n",
       "<table border=\"1\" class=\"dataframe\">\n",
       "  <thead>\n",
       "    <tr style=\"text-align: right;\">\n",
       "      <th></th>\n",
       "      <th>year</th>\n",
       "      <th>lyrics</th>\n",
       "    </tr>\n",
       "  </thead>\n",
       "  <tbody>\n",
       "    <tr>\n",
       "      <th>46</th>\n",
       "      <td>1962.0</td>\n",
       "      <td>{'Im out here a thousand miles from my home Wa...</td>\n",
       "    </tr>\n",
       "    <tr>\n",
       "      <th>7</th>\n",
       "      <td>1963.0</td>\n",
       "      <td>{'How many roads must a man walk down Before y...</td>\n",
       "    </tr>\n",
       "    <tr>\n",
       "      <th>17</th>\n",
       "      <td>1964.0</td>\n",
       "      <td>{'Hollis Brown He lived on the outside of town...</td>\n",
       "    </tr>\n",
       "    <tr>\n",
       "      <th>24</th>\n",
       "      <td>1965.0</td>\n",
       "      <td>{'Once upon a time you dressed so fine Threw t...</td>\n",
       "    </tr>\n",
       "    <tr>\n",
       "      <th>3</th>\n",
       "      <td>1966.0</td>\n",
       "      <td>{'Early in the mornin Early in the mornin Im c...</td>\n",
       "    </tr>\n",
       "  </tbody>\n",
       "</table>\n",
       "</div>"
      ],
      "text/plain": [
       "      year                                             lyrics\n",
       "46  1962.0  {'Im out here a thousand miles from my home Wa...\n",
       "7   1963.0  {'How many roads must a man walk down Before y...\n",
       "17  1964.0  {'Hollis Brown He lived on the outside of town...\n",
       "24  1965.0  {'Once upon a time you dressed so fine Threw t...\n",
       "3   1966.0  {'Early in the mornin Early in the mornin Im c..."
      ]
     },
     "execution_count": 296,
     "metadata": {},
     "output_type": "execute_result"
    }
   ],
   "source": [
    "by_years.head()"
   ]
  },
  {
   "cell_type": "code",
   "execution_count": null,
   "metadata": {},
   "outputs": [],
   "source": []
  },
  {
   "cell_type": "code",
   "execution_count": 297,
   "metadata": {},
   "outputs": [],
   "source": [
    "all_lyrics = [xpp(' '.join(nltk.word_tokenize(l)),avg_word_length) for l in by_years['lyrics']]"
   ]
  },
  {
   "cell_type": "code",
   "execution_count": 298,
   "metadata": {},
   "outputs": [],
   "source": [
    "sentiment_by_years = pd.DataFrame(zip(years[:-1],all_lyrics),columns=[\"y\", \"ly\"])"
   ]
  },
  {
   "cell_type": "code",
   "execution_count": 339,
   "metadata": {},
   "outputs": [],
   "source": [
    "%matplotlib inline\n",
    "plt.rcParams.update(plt.rcParamsDefault)"
   ]
  },
  {
   "cell_type": "code",
   "execution_count": 299,
   "metadata": {},
   "outputs": [],
   "source": [
    "for i in sentiment_by_years['ly']:\n",
    "    scores = sid.polarity_scores(' '.join(i))\n",
    "    negative.append(scores['neg'])\n",
    "    neutral.append(scores['neu'])\n",
    "    positive.append(scores['pos'])\n",
    "    compound.append(scores['compound'])"
   ]
  },
  {
   "cell_type": "code",
   "execution_count": 389,
   "metadata": {},
   "outputs": [],
   "source": [
    "sentiment_by_years['negative'] = negative\n",
    "sentiment_by_years['neutral'] = neutral\n",
    "sentiment_by_years['positive'] = positive\n",
    "sentiment_by_years['compound'] = compound"
   ]
  },
  {
   "cell_type": "code",
   "execution_count": 390,
   "metadata": {},
   "outputs": [],
   "source": [
    "import random"
   ]
  },
  {
   "cell_type": "code",
   "execution_count": 433,
   "metadata": {},
   "outputs": [
    {
     "data": {
      "image/png": "[encoded data removed]",
      "text/plain": [
       "<Figure size 640x480 with 1 Axes>"
      ]
     },
     "metadata": {},
     "output_type": "display_data"
    }
   ],
   "source": [
    "for name, group in sentiment_by_years.groupby('y'):\n",
    "    plt.scatter(group['positive'],group['negative'],label=name, marker='x')\n",
    "\n",
    "plt.xlim([0.00,0.4])\n",
    "plt.ylim([0.00,0.4])\n",
    "plt.legend(loc='center left', bbox_to_anchor=(1, 0.5),ncol=6)\n",
    "plt.title(\"Lyrics Sentiments by each year\")\n",
    "plt.xlabel('Positive Valence')\n",
    "plt.ylabel('Negative  Valence')\n",
    "\n",
    "plt.show()"
   ]
  },
  {
   "cell_type": "markdown",
   "metadata": {},
   "source": [
    "## Well this tell me nothing but just says his songs are negative or \"sad\" yeah well everyone knows "
   ]
  },
  {
   "cell_type": "code",
   "execution_count": null,
   "metadata": {},
   "outputs": [],
   "source": []
  },
  {
   "cell_type": "code",
   "execution_count": 386,
   "metadata": {},
   "outputs": [
    {
     "data": {
      "text/plain": [
       "8.37"
      ]
     },
     "execution_count": 386,
     "metadata": {},
     "output_type": "execute_result"
    }
   ],
   "source": [
    "round(random.random() * 10,2)"
   ]
  },
  {
   "cell_type": "code",
   "execution_count": null,
   "metadata": {},
   "outputs": [],
   "source": []
  },
  {
   "cell_type": "code",
   "execution_count": null,
   "metadata": {},
   "outputs": [],
   "source": []
  },
  {
   "cell_type": "code",
   "execution_count": null,
   "metadata": {},
   "outputs": [],
   "source": []
  },
  {
   "cell_type": "code",
   "execution_count": null,
   "metadata": {},
   "outputs": [],
   "source": []
  },
  {
   "cell_type": "code",
   "execution_count": null,
   "metadata": {},
   "outputs": [],
   "source": []
  },
  {
   "cell_type": "code",
   "execution_count": null,
   "metadata": {},
   "outputs": [],
   "source": []
  },
  {
   "cell_type": "markdown",
   "metadata": {},
   "source": [
    "## TF-IDF"
   ]
  },
  {
   "cell_type": "code",
   "execution_count": null,
   "metadata": {},
   "outputs": [],
   "source": []
  },
  {
   "cell_type": "code",
   "execution_count": null,
   "metadata": {},
   "outputs": [],
   "source": []
  },
  {
   "cell_type": "code",
   "execution_count": null,
   "metadata": {},
   "outputs": [],
   "source": []
  },
  {
   "cell_type": "code",
   "execution_count": null,
   "metadata": {},
   "outputs": [],
   "source": []
  },
  {
   "cell_type": "code",
   "execution_count": null,
   "metadata": {},
   "outputs": [],
   "source": []
  },
  {
   "cell_type": "code",
   "execution_count": null,
   "metadata": {},
   "outputs": [],
   "source": []
  },
  {
   "cell_type": "code",
   "execution_count": null,
   "metadata": {},
   "outputs": [],
   "source": []
  },
  {
   "cell_type": "code",
   "execution_count": null,
   "metadata": {},
   "outputs": [],
   "source": []
  },
  {
   "cell_type": "code",
   "execution_count": null,
   "metadata": {},
   "outputs": [],
   "source": []
  },
  {
   "cell_type": "code",
   "execution_count": null,
   "metadata": {},
   "outputs": [],
   "source": []
  },
  {
   "cell_type": "code",
   "execution_count": null,
   "metadata": {},
   "outputs": [],
   "source": []
  },
  {
   "cell_type": "code",
   "execution_count": null,
   "metadata": {},
   "outputs": [],
   "source": []
  },
  {
   "cell_type": "code",
   "execution_count": null,
   "metadata": {},
   "outputs": [],
   "source": []
  },
  {
   "cell_type": "markdown",
   "metadata": {},
   "source": [
    "#### How succesfull was BD in making in a \"country Album\"? -- Nashville skyline and others.. // Predict a song's genre \n",
    "#### Key word extraction\n",
    "#### Letting AI write a bob dylan song "
   ]
  },
  {
   "cell_type": "code",
   "execution_count": null,
   "metadata": {},
   "outputs": [],
   "source": []
  },
  {
   "cell_type": "code",
   "execution_count": null,
   "metadata": {},
   "outputs": [],
   "source": []
  },
  {
   "cell_type": "code",
   "execution_count": null,
   "metadata": {},
   "outputs": [],
   "source": []
  },
  {
   "cell_type": "code",
   "execution_count": null,
   "metadata": {},
   "outputs": [],
   "source": []
  },
  {
   "cell_type": "code",
   "execution_count": null,
   "metadata": {},
   "outputs": [],
   "source": []
  },
  {
   "cell_type": "code",
   "execution_count": null,
   "metadata": {},
   "outputs": [],
   "source": []
  }
 ],
 "metadata": {
  "kernelspec": {
   "display_name": "Python 3",
   "language": "python",
   "name": "python3"
  },
  "language_info": {
   "codemirror_mode": {
    "name": "ipython",
    "version": 3
   },
   "file_extension": ".py",
   "mimetype": "text/x-python",
   "name": "python",
   "nbconvert_exporter": "python",
   "pygments_lexer": "ipython3",
   "version": "3.8.5"
  }
 },
 "nbformat": 4,
 "nbformat_minor": 4
}
