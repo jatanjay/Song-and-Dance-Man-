{
 "cells": [
  {
   "cell_type": "code",
   "execution_count": 1,
   "metadata": {},
   "outputs": [],
   "source": [
    "# File : SongandDanceMan.ipynb\n",
    "# Author : Jatan Pandya (https://github.com/jatanjay/)\n",
    "# University of Massachusetts - Amherst"
   ]
  },
  {
   "cell_type": "markdown",
   "metadata": {},
   "source": [
    "# **Song and Dance Man**\n",
    "## A corpus based analysis on the works of Bob Dylan from the year 1960 to 2020"
   ]
  },
  {
   "cell_type": "code",
   "execution_count": 2,
   "metadata": {},
   "outputs": [],
   "source": [
    "# you could add an image or something here"
   ]
  },
  {
   "cell_type": "markdown",
   "metadata": {},
   "source": [
    "> ### **Start low, go slow. Catch fire, rise higher.**\n",
    "\n",
    "#### Let's start by scratching the surface of Bob Dylan's corpus, by first cleaning, applying various Natrual Language Processing (NLP) text processing methods and then by extracting information about the same in a way that will help us understand the corpus in a much better way.Along the way, we'll acquaint ourselves with basics of NLP and concepts of English language etc. and ideas that come up in corpus based analysis.\n",
    "\n",
    "### We will be using various meta files and the Corpus CSV file that we generated using \n",
    "### [CorpusGenius](https://github.com/jatanjay/CorpusGenius) for Bob Dylan\n",
    "#### Files such as : \n",
    "##### 1.Dylan's corpus \n",
    "##### 2.Lyrics of songs released by year\n",
    "##### 3.Dylan's Discography by year\n",
    "##### 4.List of all songs relased by Dylan\n",
    "#### Let's start by importing necessary modules for this project and the files that'll be needed "
   ]
  },
  {
   "cell_type": "code",
   "execution_count": 3,
   "metadata": {},
   "outputs": [],
   "source": [
    "import pandas as pd\n",
    "import numpy as np\n",
    "import matplotlib.pyplot as plt\n",
    "from collections import defaultdict\n",
    "import nltk\n",
    "from nltk import ngrams\n",
    "from pprint import pprint"
   ]
  },
  {
   "cell_type": "code",
   "execution_count": null,
   "metadata": {},
   "outputs": [],
   "source": []
  },
  {
   "cell_type": "code",
   "execution_count": 4,
   "metadata": {},
   "outputs": [],
   "source": [
    "dylan_albums = r\"C:/Users/jayes/PycharmProjects/SongandDanceMan/Final_final_final_dylan/Dylan_albums.csv\"\n",
    "dylan_tracks = r\"C:/Users/jayes/PycharmProjects/SongandDanceMan/Final_final_final_dylan/Dylan_tracks.csv\"\n",
    "dylan_lyrics = r\"C:/Users/jayes/PycharmProjects/SongandDanceMan/Final_final_final_dylan/Dylan_lyrics.csv\"\n",
    "dylan_by_years = r\"C:/Users/jayes/PycharmProjects/SongandDanceMan/Final_final_final_dylan/Dylan_lyrics_by_years.csv\"\n",
    "dylan_corpus = r\"C:/Users/jayes/PycharmProjects/SongandDanceMan/Final_final_final_dylan/Dylan_corpus.csv\""
   ]
  },
  {
   "cell_type": "code",
   "execution_count": 5,
   "metadata": {},
   "outputs": [],
   "source": [
    "# first albums released by years"
   ]
  },
  {
   "cell_type": "code",
   "execution_count": 6,
   "metadata": {},
   "outputs": [],
   "source": [
    "albums = pd.read_csv(dylan_albums)\n",
    "tracks = pd.read_csv(dylan_tracks)\n",
    "lyrics = pd.read_csv(dylan_lyrics)\n",
    "by_years = pd.read_csv(dylan_by_years,squeeze=True)"
   ]
  },
  {
   "cell_type": "markdown",
   "metadata": {},
   "source": [
    "### Below are all the albums released by Bob Dylan"
   ]
  },
  {
   "cell_type": "code",
   "execution_count": 7,
   "metadata": {},
   "outputs": [
    {
     "data": {
      "text/html": [
       "<div>\n",
       "<style scoped>\n",
       "    .dataframe tbody tr th:only-of-type {\n",
       "        vertical-align: middle;\n",
       "    }\n",
       "\n",
       "    .dataframe tbody tr th {\n",
       "        vertical-align: top;\n",
       "    }\n",
       "\n",
       "    .dataframe thead th {\n",
       "        text-align: right;\n",
       "    }\n",
       "</style>\n",
       "<table border=\"1\" class=\"dataframe\">\n",
       "  <thead>\n",
       "    <tr style=\"text-align: right;\">\n",
       "      <th></th>\n",
       "      <th>year</th>\n",
       "      <th>album title</th>\n",
       "      <th>album id</th>\n",
       "    </tr>\n",
       "  </thead>\n",
       "  <tbody>\n",
       "    <tr>\n",
       "      <th>0</th>\n",
       "      <td>1962</td>\n",
       "      <td>Bob Dylan</td>\n",
       "      <td>26515</td>\n",
       "    </tr>\n",
       "    <tr>\n",
       "      <th>1</th>\n",
       "      <td>1963</td>\n",
       "      <td>The Freewheelin' Bob Dylan</td>\n",
       "      <td>17327</td>\n",
       "    </tr>\n",
       "    <tr>\n",
       "      <th>2</th>\n",
       "      <td>1964</td>\n",
       "      <td>The Times They Are A-Changin'</td>\n",
       "      <td>28249</td>\n",
       "    </tr>\n",
       "    <tr>\n",
       "      <th>3</th>\n",
       "      <td>1964</td>\n",
       "      <td>Another Side of Bob Dylan</td>\n",
       "      <td>25519</td>\n",
       "    </tr>\n",
       "    <tr>\n",
       "      <th>4</th>\n",
       "      <td>1965</td>\n",
       "      <td>Bringing It All Back Home</td>\n",
       "      <td>17399</td>\n",
       "    </tr>\n",
       "    <tr>\n",
       "      <th>...</th>\n",
       "      <td>...</td>\n",
       "      <td>...</td>\n",
       "      <td>...</td>\n",
       "    </tr>\n",
       "    <tr>\n",
       "      <th>57</th>\n",
       "      <td>2017</td>\n",
       "      <td>Triplicate</td>\n",
       "      <td>328059</td>\n",
       "    </tr>\n",
       "    <tr>\n",
       "      <th>58</th>\n",
       "      <td>2018</td>\n",
       "      <td>The Bootleg Series Vol. 14: More Blood, More T...</td>\n",
       "      <td>466127</td>\n",
       "    </tr>\n",
       "    <tr>\n",
       "      <th>59</th>\n",
       "      <td>2019</td>\n",
       "      <td>The Rolling Thunder Revue: The 1975 Live Recor...</td>\n",
       "      <td>648356</td>\n",
       "    </tr>\n",
       "    <tr>\n",
       "      <th>60</th>\n",
       "      <td>2019</td>\n",
       "      <td>The Bootleg Series Vol. 15: Travelin' Thru, 19...</td>\n",
       "      <td>646838</td>\n",
       "    </tr>\n",
       "    <tr>\n",
       "      <th>61</th>\n",
       "      <td>2020</td>\n",
       "      <td>Rough and Rowdy Ways</td>\n",
       "      <td>633233</td>\n",
       "    </tr>\n",
       "  </tbody>\n",
       "</table>\n",
       "<p>62 rows × 3 columns</p>\n",
       "</div>"
      ],
      "text/plain": [
       "    year                                        album title  album id\n",
       "0   1962                                          Bob Dylan     26515\n",
       "1   1963                         The Freewheelin' Bob Dylan     17327\n",
       "2   1964                      The Times They Are A-Changin'     28249\n",
       "3   1964                          Another Side of Bob Dylan     25519\n",
       "4   1965                          Bringing It All Back Home     17399\n",
       "..   ...                                                ...       ...\n",
       "57  2017                                         Triplicate    328059\n",
       "58  2018  The Bootleg Series Vol. 14: More Blood, More T...    466127\n",
       "59  2019  The Rolling Thunder Revue: The 1975 Live Recor...    648356\n",
       "60  2019  The Bootleg Series Vol. 15: Travelin' Thru, 19...    646838\n",
       "61  2020                               Rough and Rowdy Ways    633233\n",
       "\n",
       "[62 rows x 3 columns]"
      ]
     },
     "execution_count": 7,
     "metadata": {},
     "output_type": "execute_result"
    }
   ],
   "source": [
    "albums"
   ]
  },
  {
   "cell_type": "markdown",
   "metadata": {},
   "source": [
    "### Below are all the tracks released by Bob Dylan"
   ]
  },
  {
   "cell_type": "code",
   "execution_count": 8,
   "metadata": {},
   "outputs": [
    {
     "data": {
      "text/html": [
       "<div>\n",
       "<style scoped>\n",
       "    .dataframe tbody tr th:only-of-type {\n",
       "        vertical-align: middle;\n",
       "    }\n",
       "\n",
       "    .dataframe tbody tr th {\n",
       "        vertical-align: top;\n",
       "    }\n",
       "\n",
       "    .dataframe thead th {\n",
       "        text-align: right;\n",
       "    }\n",
       "</style>\n",
       "<table border=\"1\" class=\"dataframe\">\n",
       "  <thead>\n",
       "    <tr style=\"text-align: right;\">\n",
       "      <th></th>\n",
       "      <th>album title</th>\n",
       "      <th>song title</th>\n",
       "      <th>song id</th>\n",
       "      <th>year</th>\n",
       "    </tr>\n",
       "  </thead>\n",
       "  <tbody>\n",
       "    <tr>\n",
       "      <th>0</th>\n",
       "      <td>The Bootleg Series Vol. 8: Tell Tale Signs: Ra...</td>\n",
       "      <td>'Cross the Green Mountain</td>\n",
       "      <td>1006242</td>\n",
       "      <td>2008.0</td>\n",
       "    </tr>\n",
       "    <tr>\n",
       "      <th>1</th>\n",
       "      <td>NaN</td>\n",
       "      <td>'Cross the Green Mountain</td>\n",
       "      <td>1006242</td>\n",
       "      <td>NaN</td>\n",
       "    </tr>\n",
       "    <tr>\n",
       "      <th>2</th>\n",
       "      <td>Under the Red Sky</td>\n",
       "      <td>10,000 Men</td>\n",
       "      <td>200681</td>\n",
       "      <td>1990.0</td>\n",
       "    </tr>\n",
       "    <tr>\n",
       "      <th>3</th>\n",
       "      <td>NaN</td>\n",
       "      <td>10,000 Men</td>\n",
       "      <td>200681</td>\n",
       "      <td>NaN</td>\n",
       "    </tr>\n",
       "    <tr>\n",
       "      <th>4</th>\n",
       "      <td>NaN</td>\n",
       "      <td>2 X 2</td>\n",
       "      <td>200682</td>\n",
       "      <td>NaN</td>\n",
       "    </tr>\n",
       "    <tr>\n",
       "      <th>...</th>\n",
       "      <td>...</td>\n",
       "      <td>...</td>\n",
       "      <td>...</td>\n",
       "      <td>...</td>\n",
       "    </tr>\n",
       "    <tr>\n",
       "      <th>1917</th>\n",
       "      <td>NaN</td>\n",
       "      <td>You're a Big Girl Now (9/16/74, Take 2)</td>\n",
       "      <td>3991896</td>\n",
       "      <td>NaN</td>\n",
       "    </tr>\n",
       "    <tr>\n",
       "      <th>1918</th>\n",
       "      <td>The Bootleg Series Vol. 14: More Blood, More T...</td>\n",
       "      <td>You're a Big Girl Now (9/16/74, Take 2)</td>\n",
       "      <td>3991896</td>\n",
       "      <td>2018.0</td>\n",
       "    </tr>\n",
       "    <tr>\n",
       "      <th>1919</th>\n",
       "      <td>The Bootleg Series Vol. 14: More Blood, More T...</td>\n",
       "      <td>You're a Big Girl Now (9/17/74 Take 1, Remake)</td>\n",
       "      <td>4124382</td>\n",
       "      <td>2018.0</td>\n",
       "    </tr>\n",
       "    <tr>\n",
       "      <th>1920</th>\n",
       "      <td>Fallen Angels</td>\n",
       "      <td>Young at Heart</td>\n",
       "      <td>2475866</td>\n",
       "      <td>2016.0</td>\n",
       "    </tr>\n",
       "    <tr>\n",
       "      <th>1921</th>\n",
       "      <td>NaN</td>\n",
       "      <td>Young at Heart</td>\n",
       "      <td>2475866</td>\n",
       "      <td>NaN</td>\n",
       "    </tr>\n",
       "  </tbody>\n",
       "</table>\n",
       "<p>1922 rows × 4 columns</p>\n",
       "</div>"
      ],
      "text/plain": [
       "                                            album title  \\\n",
       "0     The Bootleg Series Vol. 8: Tell Tale Signs: Ra...   \n",
       "1                                                   NaN   \n",
       "2                                     Under the Red Sky   \n",
       "3                                                   NaN   \n",
       "4                                                   NaN   \n",
       "...                                                 ...   \n",
       "1917                                                NaN   \n",
       "1918  The Bootleg Series Vol. 14: More Blood, More T...   \n",
       "1919  The Bootleg Series Vol. 14: More Blood, More T...   \n",
       "1920                                      Fallen Angels   \n",
       "1921                                                NaN   \n",
       "\n",
       "                                          song title  song id    year  \n",
       "0                          'Cross the Green Mountain  1006242  2008.0  \n",
       "1                          'Cross the Green Mountain  1006242     NaN  \n",
       "2                                         10,000 Men   200681  1990.0  \n",
       "3                                         10,000 Men   200681     NaN  \n",
       "4                                              2 X 2   200682     NaN  \n",
       "...                                              ...      ...     ...  \n",
       "1917         You're a Big Girl Now (9/16/74, Take 2)  3991896     NaN  \n",
       "1918         You're a Big Girl Now (9/16/74, Take 2)  3991896  2018.0  \n",
       "1919  You're a Big Girl Now (9/17/74 Take 1, Remake)  4124382  2018.0  \n",
       "1920                                  Young at Heart  2475866  2016.0  \n",
       "1921                                  Young at Heart  2475866     NaN  \n",
       "\n",
       "[1922 rows x 4 columns]"
      ]
     },
     "execution_count": 8,
     "metadata": {},
     "output_type": "execute_result"
    }
   ],
   "source": [
    "tracks"
   ]
  },
  {
   "cell_type": "code",
   "execution_count": 9,
   "metadata": {},
   "outputs": [
    {
     "data": {
      "text/html": [
       "<div>\n",
       "<style scoped>\n",
       "    .dataframe tbody tr th:only-of-type {\n",
       "        vertical-align: middle;\n",
       "    }\n",
       "\n",
       "    .dataframe tbody tr th {\n",
       "        vertical-align: top;\n",
       "    }\n",
       "\n",
       "    .dataframe thead th {\n",
       "        text-align: right;\n",
       "    }\n",
       "</style>\n",
       "<table border=\"1\" class=\"dataframe\">\n",
       "  <thead>\n",
       "    <tr style=\"text-align: right;\">\n",
       "      <th></th>\n",
       "      <th>Unnamed: 0</th>\n",
       "      <th>lyrics</th>\n",
       "    </tr>\n",
       "  </thead>\n",
       "  <tbody>\n",
       "    <tr>\n",
       "      <th>0</th>\n",
       "      <td>'Cross the Green Mountain</td>\n",
       "      <td>{'I cross the green mountain, I slept by the s...</td>\n",
       "    </tr>\n",
       "    <tr>\n",
       "      <th>1</th>\n",
       "      <td>10,000 Men</td>\n",
       "      <td>{'Ten thousand men on a hill Ten thousand men ...</td>\n",
       "    </tr>\n",
       "    <tr>\n",
       "      <th>2</th>\n",
       "      <td>2 X 2</td>\n",
       "      <td>{'One by one, they followed the sun One by one...</td>\n",
       "    </tr>\n",
       "    <tr>\n",
       "      <th>3</th>\n",
       "      <td>4th Time Around</td>\n",
       "      <td>{'When she said \"Dont waste your words, theyre...</td>\n",
       "    </tr>\n",
       "    <tr>\n",
       "      <th>4</th>\n",
       "      <td>A Hard Rain's  A-Gonna Fall [Gaslight 1962]</td>\n",
       "      <td>{'Oh, where have you been, my blue-eyed son? A...</td>\n",
       "    </tr>\n",
       "    <tr>\n",
       "      <th>...</th>\n",
       "      <td>...</td>\n",
       "      <td>...</td>\n",
       "    </tr>\n",
       "    <tr>\n",
       "      <th>500</th>\n",
       "      <td>You're A Big Girl Now [Hard Rain]</td>\n",
       "      <td>{'Our conversation was short and sweet It near...</td>\n",
       "    </tr>\n",
       "    <tr>\n",
       "      <th>501</th>\n",
       "      <td>You're Gonna Make Me Lonesome When You Go</td>\n",
       "      <td>{'Ive seen love go by my door Its never been t...</td>\n",
       "    </tr>\n",
       "    <tr>\n",
       "      <th>502</th>\n",
       "      <td>You're Gonna Make Me Lonesome When You Go (9/1...</td>\n",
       "      <td>{'Ive seen love go by my door Its never been t...</td>\n",
       "    </tr>\n",
       "    <tr>\n",
       "      <th>503</th>\n",
       "      <td>You're a Big Girl Now</td>\n",
       "      <td>{'Our conversation was short and sweet It near...</td>\n",
       "    </tr>\n",
       "    <tr>\n",
       "      <th>504</th>\n",
       "      <td>You're a Big Girl Now (9/16/74, Take 2)</td>\n",
       "      <td>{'Our conversation was short and sweet It near...</td>\n",
       "    </tr>\n",
       "  </tbody>\n",
       "</table>\n",
       "<p>505 rows × 2 columns</p>\n",
       "</div>"
      ],
      "text/plain": [
       "                                            Unnamed: 0  \\\n",
       "0                            'Cross the Green Mountain   \n",
       "1                                           10,000 Men   \n",
       "2                                                2 X 2   \n",
       "3                                      4th Time Around   \n",
       "4          A Hard Rain's  A-Gonna Fall [Gaslight 1962]   \n",
       "..                                                 ...   \n",
       "500                  You're A Big Girl Now [Hard Rain]   \n",
       "501          You're Gonna Make Me Lonesome When You Go   \n",
       "502  You're Gonna Make Me Lonesome When You Go (9/1...   \n",
       "503                              You're a Big Girl Now   \n",
       "504            You're a Big Girl Now (9/16/74, Take 2)   \n",
       "\n",
       "                                                lyrics  \n",
       "0    {'I cross the green mountain, I slept by the s...  \n",
       "1    {'Ten thousand men on a hill Ten thousand men ...  \n",
       "2    {'One by one, they followed the sun One by one...  \n",
       "3    {'When she said \"Dont waste your words, theyre...  \n",
       "4    {'Oh, where have you been, my blue-eyed son? A...  \n",
       "..                                                 ...  \n",
       "500  {'Our conversation was short and sweet It near...  \n",
       "501  {'Ive seen love go by my door Its never been t...  \n",
       "502  {'Ive seen love go by my door Its never been t...  \n",
       "503  {'Our conversation was short and sweet It near...  \n",
       "504  {'Our conversation was short and sweet It near...  \n",
       "\n",
       "[505 rows x 2 columns]"
      ]
     },
     "execution_count": 9,
     "metadata": {},
     "output_type": "execute_result"
    }
   ],
   "source": [
    "lyrics"
   ]
  },
  {
   "cell_type": "markdown",
   "metadata": {},
   "source": [
    "### Tweaks for plots"
   ]
  },
  {
   "cell_type": "code",
   "execution_count": 10,
   "metadata": {},
   "outputs": [],
   "source": [
    "plt.rcParams['figure.figsize'] = [8, 4]\n",
    "plt.rcParams['figure.dpi'] = 150"
   ]
  },
  {
   "cell_type": "markdown",
   "metadata": {},
   "source": [
    "## In order to understand Dylan's discography and style, let's mess around with data directly "
   ]
  },
  {
   "cell_type": "markdown",
   "metadata": {},
   "source": [
    "### 1) Average word length by year \n",
    "#### For that, we'll make use of file \"by_years\". Below are all the lyrics (including released by each year)"
   ]
  },
  {
   "cell_type": "code",
   "execution_count": 11,
   "metadata": {},
   "outputs": [
    {
     "data": {
      "text/html": [
       "<div>\n",
       "<style scoped>\n",
       "    .dataframe tbody tr th:only-of-type {\n",
       "        vertical-align: middle;\n",
       "    }\n",
       "\n",
       "    .dataframe tbody tr th {\n",
       "        vertical-align: top;\n",
       "    }\n",
       "\n",
       "    .dataframe thead th {\n",
       "        text-align: right;\n",
       "    }\n",
       "</style>\n",
       "<table border=\"1\" class=\"dataframe\">\n",
       "  <thead>\n",
       "    <tr style=\"text-align: right;\">\n",
       "      <th></th>\n",
       "      <th>year</th>\n",
       "      <th>lyrics</th>\n",
       "    </tr>\n",
       "  </thead>\n",
       "  <tbody>\n",
       "    <tr>\n",
       "      <th>46</th>\n",
       "      <td>1962.0</td>\n",
       "      <td>{'Im out here a thousand miles from my home Wa...</td>\n",
       "    </tr>\n",
       "    <tr>\n",
       "      <th>7</th>\n",
       "      <td>1963.0</td>\n",
       "      <td>{'How many roads must a man walk down Before y...</td>\n",
       "    </tr>\n",
       "    <tr>\n",
       "      <th>17</th>\n",
       "      <td>1964.0</td>\n",
       "      <td>{'Hollis Brown He lived on the outside of town...</td>\n",
       "    </tr>\n",
       "    <tr>\n",
       "      <th>24</th>\n",
       "      <td>1965.0</td>\n",
       "      <td>{'Once upon a time you dressed so fine Threw t...</td>\n",
       "    </tr>\n",
       "    <tr>\n",
       "      <th>3</th>\n",
       "      <td>1966.0</td>\n",
       "      <td>{'Early in the mornin Early in the mornin Im c...</td>\n",
       "    </tr>\n",
       "    <tr>\n",
       "      <th>15</th>\n",
       "      <td>1967.0</td>\n",
       "      <td>{'I pity the poor immigrant Who wishes he woul...</td>\n",
       "    </tr>\n",
       "    <tr>\n",
       "      <th>39</th>\n",
       "      <td>1969.0</td>\n",
       "      <td>{'I have heard rumors all over town They say t...</td>\n",
       "    </tr>\n",
       "    <tr>\n",
       "      <th>18</th>\n",
       "      <td>1970.0</td>\n",
       "      <td>{'Cant you hear that rooster crowing? Rabbit r...</td>\n",
       "    </tr>\n",
       "    <tr>\n",
       "      <th>8</th>\n",
       "      <td>1971.0</td>\n",
       "      <td>{'I aint lookin to compete with you Beat or ch...</td>\n",
       "    </tr>\n",
       "    <tr>\n",
       "      <th>29</th>\n",
       "      <td>1973.0</td>\n",
       "      <td>{'Spend the night with some sweet senorita Int...</td>\n",
       "    </tr>\n",
       "    <tr>\n",
       "      <th>42</th>\n",
       "      <td>1974.0</td>\n",
       "      <td>{'You angel, you Your essence got me under you...</td>\n",
       "    </tr>\n",
       "    <tr>\n",
       "      <th>33</th>\n",
       "      <td>1975.0</td>\n",
       "      <td>{'Buckets of rain Buckets of tears Got all the...</td>\n",
       "    </tr>\n",
       "    <tr>\n",
       "      <th>30</th>\n",
       "      <td>1976.0</td>\n",
       "      <td>{'I laid on a dune, I looked at the sky When t...</td>\n",
       "    </tr>\n",
       "    <tr>\n",
       "      <th>37</th>\n",
       "      <td>1978.0</td>\n",
       "      <td>{'I think we better talk this over Maybe when ...</td>\n",
       "    </tr>\n",
       "    <tr>\n",
       "      <th>12</th>\n",
       "      <td>1979.0</td>\n",
       "      <td>{'They say evrything can be replaced Yet evry ...</td>\n",
       "    </tr>\n",
       "    <tr>\n",
       "      <th>21</th>\n",
       "      <td>1980.0</td>\n",
       "      <td>{'Are you ready, are you ready? Are you ready,...</td>\n",
       "    </tr>\n",
       "    <tr>\n",
       "      <th>40</th>\n",
       "      <td>1981.0</td>\n",
       "      <td>{'Trouble in the city, trouble in the farm You...</td>\n",
       "    </tr>\n",
       "    <tr>\n",
       "      <th>44</th>\n",
       "      <td>1983.0</td>\n",
       "      <td>{'Standing on the waters   casting your bread ...</td>\n",
       "    </tr>\n",
       "    <tr>\n",
       "      <th>26</th>\n",
       "      <td>1984.0</td>\n",
       "      <td>{'You walk into the room With your pencil in y...</td>\n",
       "    </tr>\n",
       "    <tr>\n",
       "      <th>10</th>\n",
       "      <td>1985.0</td>\n",
       "      <td>{'Sometimes Im in the mood, I want to leave my...</td>\n",
       "    </tr>\n",
       "    <tr>\n",
       "      <th>32</th>\n",
       "      <td>1986.0</td>\n",
       "      <td>{'I didnt know that youd be leaving Or who you...</td>\n",
       "    </tr>\n",
       "    <tr>\n",
       "      <th>41</th>\n",
       "      <td>1988.0</td>\n",
       "      <td>{'The woman that I love she got a hook in her ...</td>\n",
       "    </tr>\n",
       "    <tr>\n",
       "      <th>43</th>\n",
       "      <td>1989.0</td>\n",
       "      <td>{'Crickets are chirping, the water is high The...</td>\n",
       "    </tr>\n",
       "    <tr>\n",
       "      <th>2</th>\n",
       "      <td>1990.0</td>\n",
       "      <td>{'One time in London Id gone out for a walk Pa...</td>\n",
       "    </tr>\n",
       "    <tr>\n",
       "      <th>20</th>\n",
       "      <td>1991.0</td>\n",
       "      <td>{'In the time of my confession, in the hour of...</td>\n",
       "    </tr>\n",
       "    <tr>\n",
       "      <th>16</th>\n",
       "      <td>1995.0</td>\n",
       "      <td>{'Come gather round people Wherever you roam A...</td>\n",
       "    </tr>\n",
       "    <tr>\n",
       "      <th>38</th>\n",
       "      <td>1997.0</td>\n",
       "      <td>{'Well my hearts in the Highlands gentle and f...</td>\n",
       "    </tr>\n",
       "    <tr>\n",
       "      <th>25</th>\n",
       "      <td>1998.0</td>\n",
       "      <td>{'When she said \"Dont waste your words, theyre...</td>\n",
       "    </tr>\n",
       "    <tr>\n",
       "      <th>14</th>\n",
       "      <td>2000.0</td>\n",
       "      <td>{'Standing on the waters   casting your bread ...</td>\n",
       "    </tr>\n",
       "    <tr>\n",
       "      <th>35</th>\n",
       "      <td>2001.0</td>\n",
       "      <td>{'Bye and bye, Im breathin a lovers sigh Im si...</td>\n",
       "    </tr>\n",
       "    <tr>\n",
       "      <th>6</th>\n",
       "      <td>2002.0</td>\n",
       "      <td>{'They say every man must need protection They...</td>\n",
       "    </tr>\n",
       "    <tr>\n",
       "      <th>5</th>\n",
       "      <td>2004.0</td>\n",
       "      <td>{'Hey Mr. Tambourine Man, play a song for me I...</td>\n",
       "    </tr>\n",
       "    <tr>\n",
       "      <th>4</th>\n",
       "      <td>2005.0</td>\n",
       "      <td>{'Come, you masters of war You that build the ...</td>\n",
       "    </tr>\n",
       "    <tr>\n",
       "      <th>28</th>\n",
       "      <td>2006.0</td>\n",
       "      <td>{'Thunder on the mountain, fires on the moon T...</td>\n",
       "    </tr>\n",
       "    <tr>\n",
       "      <th>0</th>\n",
       "      <td>2008.0</td>\n",
       "      <td>{'Broken lines, broken strings Broken threads,...</td>\n",
       "    </tr>\n",
       "    <tr>\n",
       "      <th>27</th>\n",
       "      <td>2009.0</td>\n",
       "      <td>{'Oh, well, I love ya pretty baby Youre the on...</td>\n",
       "    </tr>\n",
       "    <tr>\n",
       "      <th>9</th>\n",
       "      <td>2010.0</td>\n",
       "      <td>{'Sometimes Im in the mood, I want to leave my...</td>\n",
       "    </tr>\n",
       "    <tr>\n",
       "      <th>23</th>\n",
       "      <td>2011.0</td>\n",
       "      <td>{'Well, I was feelin sad and feelin blue I did...</td>\n",
       "    </tr>\n",
       "    <tr>\n",
       "      <th>45</th>\n",
       "      <td>2012.0</td>\n",
       "      <td>{'All the early Roman Kings in their sharkskin...</td>\n",
       "    </tr>\n",
       "    <tr>\n",
       "      <th>19</th>\n",
       "      <td>2013.0</td>\n",
       "      <td>{'Time passes slowly Up here in the mountains ...</td>\n",
       "    </tr>\n",
       "    <tr>\n",
       "      <th>11</th>\n",
       "      <td>2015.0</td>\n",
       "      <td>{'(Intro) Oh, the ragman draws circles Up and ...</td>\n",
       "    </tr>\n",
       "    <tr>\n",
       "      <th>36</th>\n",
       "      <td>2016.0</td>\n",
       "      <td>{'You will search, babe At any cost But how lo...</td>\n",
       "    </tr>\n",
       "    <tr>\n",
       "      <th>22</th>\n",
       "      <td>2017.0</td>\n",
       "      <td>{'Are you ready, are you ready? Are you ready,...</td>\n",
       "    </tr>\n",
       "    <tr>\n",
       "      <th>34</th>\n",
       "      <td>2018.0</td>\n",
       "      <td>{'They sat together in the park As the evening...</td>\n",
       "    </tr>\n",
       "    <tr>\n",
       "      <th>13</th>\n",
       "      <td>2019.0</td>\n",
       "      <td>{'\"There must be some way out of here\" Said th...</td>\n",
       "    </tr>\n",
       "    <tr>\n",
       "      <th>31</th>\n",
       "      <td>2020.0</td>\n",
       "      <td>{'I live on a street named after a Saint Women...</td>\n",
       "    </tr>\n",
       "    <tr>\n",
       "      <th>1</th>\n",
       "      <td>NaN</td>\n",
       "      <td>{'A tear goes down my day is real But your dry...</td>\n",
       "    </tr>\n",
       "  </tbody>\n",
       "</table>\n",
       "</div>"
      ],
      "text/plain": [
       "      year                                             lyrics\n",
       "46  1962.0  {'Im out here a thousand miles from my home Wa...\n",
       "7   1963.0  {'How many roads must a man walk down Before y...\n",
       "17  1964.0  {'Hollis Brown He lived on the outside of town...\n",
       "24  1965.0  {'Once upon a time you dressed so fine Threw t...\n",
       "3   1966.0  {'Early in the mornin Early in the mornin Im c...\n",
       "15  1967.0  {'I pity the poor immigrant Who wishes he woul...\n",
       "39  1969.0  {'I have heard rumors all over town They say t...\n",
       "18  1970.0  {'Cant you hear that rooster crowing? Rabbit r...\n",
       "8   1971.0  {'I aint lookin to compete with you Beat or ch...\n",
       "29  1973.0  {'Spend the night with some sweet senorita Int...\n",
       "42  1974.0  {'You angel, you Your essence got me under you...\n",
       "33  1975.0  {'Buckets of rain Buckets of tears Got all the...\n",
       "30  1976.0  {'I laid on a dune, I looked at the sky When t...\n",
       "37  1978.0  {'I think we better talk this over Maybe when ...\n",
       "12  1979.0  {'They say evrything can be replaced Yet evry ...\n",
       "21  1980.0  {'Are you ready, are you ready? Are you ready,...\n",
       "40  1981.0  {'Trouble in the city, trouble in the farm You...\n",
       "44  1983.0  {'Standing on the waters   casting your bread ...\n",
       "26  1984.0  {'You walk into the room With your pencil in y...\n",
       "10  1985.0  {'Sometimes Im in the mood, I want to leave my...\n",
       "32  1986.0  {'I didnt know that youd be leaving Or who you...\n",
       "41  1988.0  {'The woman that I love she got a hook in her ...\n",
       "43  1989.0  {'Crickets are chirping, the water is high The...\n",
       "2   1990.0  {'One time in London Id gone out for a walk Pa...\n",
       "20  1991.0  {'In the time of my confession, in the hour of...\n",
       "16  1995.0  {'Come gather round people Wherever you roam A...\n",
       "38  1997.0  {'Well my hearts in the Highlands gentle and f...\n",
       "25  1998.0  {'When she said \"Dont waste your words, theyre...\n",
       "14  2000.0  {'Standing on the waters   casting your bread ...\n",
       "35  2001.0  {'Bye and bye, Im breathin a lovers sigh Im si...\n",
       "6   2002.0  {'They say every man must need protection They...\n",
       "5   2004.0  {'Hey Mr. Tambourine Man, play a song for me I...\n",
       "4   2005.0  {'Come, you masters of war You that build the ...\n",
       "28  2006.0  {'Thunder on the mountain, fires on the moon T...\n",
       "0   2008.0  {'Broken lines, broken strings Broken threads,...\n",
       "27  2009.0  {'Oh, well, I love ya pretty baby Youre the on...\n",
       "9   2010.0  {'Sometimes Im in the mood, I want to leave my...\n",
       "23  2011.0  {'Well, I was feelin sad and feelin blue I did...\n",
       "45  2012.0  {'All the early Roman Kings in their sharkskin...\n",
       "19  2013.0  {'Time passes slowly Up here in the mountains ...\n",
       "11  2015.0  {'(Intro) Oh, the ragman draws circles Up and ...\n",
       "36  2016.0  {'You will search, babe At any cost But how lo...\n",
       "22  2017.0  {'Are you ready, are you ready? Are you ready,...\n",
       "34  2018.0  {'They sat together in the park As the evening...\n",
       "13  2019.0  {'\"There must be some way out of here\" Said th...\n",
       "31  2020.0  {'I live on a street named after a Saint Women...\n",
       "1      NaN  {'A tear goes down my day is real But your dry..."
      ]
     },
     "execution_count": 11,
     "metadata": {},
     "output_type": "execute_result"
    }
   ],
   "source": [
    "## Clean clean clean \n",
    "by_years.columns = ['year','lyrics']\n",
    "by_years = by_years.sort_values(by=['year'])\n",
    "by_years"
   ]
  },
  {
   "cell_type": "code",
   "execution_count": 12,
   "metadata": {},
   "outputs": [
    {
     "data": {
      "image/png": "[encoded data removed]",
      "text/plain": [
       "<Figure size 1200x600 with 1 Axes>"
      ]
     },
     "metadata": {
      "needs_background": "light"
     },
     "output_type": "display_data"
    }
   ],
   "source": [
    "def lby_year(by_year):\n",
    "    wrd_l = [len(song) for song in by_year['lyrics']]\n",
    "    years = [year for year in by_year['year']]\n",
    "    clubbed = pd.Series(wrd_l,years)\n",
    "    return clubbed\n",
    "word_length = lby_year(by_years)\n",
    "\n",
    "def plt_wrd(word_length):\n",
    "    plt.title(\"Total number of words in all songs released by year (1960-2020)\")\n",
    "    plt.plot(word_length)    \n",
    "plt_wrd(word_length)"
   ]
  },
  {
   "cell_type": "markdown",
   "metadata": {},
   "source": [
    "## Corpus Based Analysis : "
   ]
  },
  {
   "cell_type": "code",
   "execution_count": 13,
   "metadata": {},
   "outputs": [],
   "source": [
    "read_corpus = pd.read_csv(dylan_corpus)\n",
    "read_corpus.columns = ['Sr. No',\"Dylan's Corpus\"]"
   ]
  },
  {
   "cell_type": "code",
   "execution_count": 14,
   "metadata": {},
   "outputs": [
    {
     "data": {
      "text/html": [
       "<div>\n",
       "<style scoped>\n",
       "    .dataframe tbody tr th:only-of-type {\n",
       "        vertical-align: middle;\n",
       "    }\n",
       "\n",
       "    .dataframe tbody tr th {\n",
       "        vertical-align: top;\n",
       "    }\n",
       "\n",
       "    .dataframe thead th {\n",
       "        text-align: right;\n",
       "    }\n",
       "</style>\n",
       "<table border=\"1\" class=\"dataframe\">\n",
       "  <thead>\n",
       "    <tr style=\"text-align: right;\">\n",
       "      <th></th>\n",
       "      <th>Sr. No</th>\n",
       "      <th>Dylan's Corpus</th>\n",
       "    </tr>\n",
       "  </thead>\n",
       "  <tbody>\n",
       "    <tr>\n",
       "      <th>0</th>\n",
       "      <td>0</td>\n",
       "      <td>'Go ahead, drive the nails through my hand Lau...</td>\n",
       "    </tr>\n",
       "  </tbody>\n",
       "</table>\n",
       "</div>"
      ],
      "text/plain": [
       "   Sr. No                                     Dylan's Corpus\n",
       "0       0  'Go ahead, drive the nails through my hand Lau..."
      ]
     },
     "execution_count": 14,
     "metadata": {},
     "output_type": "execute_result"
    }
   ],
   "source": [
    "read_corpus"
   ]
  },
  {
   "cell_type": "code",
   "execution_count": 15,
   "metadata": {},
   "outputs": [
    {
     "data": {
      "text/plain": [
       "\"'Go ahead, drive the nails through my hand Laugh at me where you stand Go ahead, say it isnt me But the day will come That you will see  Cause Ill rise again Aint no power on Earth can tie me down Yes, Ill rise again Death cant keep me buried in the ground  Go ahead and mock my name You will see, Im still the same Go ahead, try to bury me Very, very soon I will be free  Cause Ill rise again Aint no power on Earth can tie me now And Ill rise again Death cant keep me buried in the ground  Go ahead, say Im dead and gone You will see that you were wrong Go ahead, try to hide the Son But the day will come When youll see Im the one  Cause Ill rise again Aint no power on Earth can tie me down Yes, Ill rise again Death cant keep me buried in the ground''Unlike most of the songs nowadays that have been written up in Tin Pan Alley, thats where most of the folk songs come from nowadays, this, this is a song, this wasnt written up there, this was written somewhere down in the United States  Well, \""
      ]
     },
     "execution_count": 15,
     "metadata": {},
     "output_type": "execute_result"
    }
   ],
   "source": [
    "corpus = [corpus for corpus in read_corpus[\"Dylan's Corpus\"]]\n",
    "corpus[0][:1000]"
   ]
  },
  {
   "cell_type": "code",
   "execution_count": 16,
   "metadata": {},
   "outputs": [
    {
     "data": {
      "text/plain": [
       "[\"'\", 'Go', 'ahead', ',', 'drive', 'the', 'nails', 'through', 'my', 'hand']"
      ]
     },
     "execution_count": 16,
     "metadata": {},
     "output_type": "execute_result"
    }
   ],
   "source": [
    "for i in corpus:\n",
    "    corpus_tokenized = nltk.wordpunct_tokenize(i)\n",
    "corpus_tokenized[:10]"
   ]
  },
  {
   "cell_type": "code",
   "execution_count": 17,
   "metadata": {},
   "outputs": [],
   "source": [
    "corpus_words = [word for word in corpus_tokenized if word.isalpha()]"
   ]
  },
  {
   "cell_type": "code",
   "execution_count": 18,
   "metadata": {},
   "outputs": [
    {
     "name": "stdout",
     "output_type": "stream",
     "text": [
      "For artist Bob Dylan\n",
      "1) Total number of tokens are 183085\n",
      "2) Total number of types are 10187\n",
      "3) Vocab count 8602\n"
     ]
    }
   ],
   "source": [
    "tokens = len(corpus_tokenized)\n",
    "vocabulary = len(set(word.lower() for word in corpus_tokenized if word.isalpha()))\n",
    "types = len(set(corpus_tokenized))\n",
    "print(f\"For artist Bob Dylan\\n1) Total number of tokens are {tokens}\\n2) Total number of types are {types}\\n3) Vocab count {vocabulary}\")"
   ]
  },
  {
   "cell_type": "markdown",
   "metadata": {},
   "source": [
    "### 2) Lexical Deversity and Occurances \n",
    "#### Lexical Deversity is defined as ::"
   ]
  },
  {
   "cell_type": "code",
   "execution_count": 19,
   "metadata": {},
   "outputs": [
    {
     "name": "stdout",
     "output_type": "stream",
     "text": [
      "Bob Dylan's Lexical Deversity is: 0.04698364147800202 or 4.698364147800202 %\n"
     ]
    }
   ],
   "source": [
    "def lex_div(corpus):\n",
    "    lex_div = vocabulary / len(corpus)\n",
    "    print(f\"Bob Dylan's Lexical Deversity is: {lex_div} or {lex_div*100} %\")\n",
    "lex_div(corpus_tokenized)"
   ]
  },
  {
   "cell_type": "code",
   "execution_count": null,
   "metadata": {},
   "outputs": [],
   "source": []
  },
  {
   "cell_type": "code",
   "execution_count": null,
   "metadata": {},
   "outputs": [],
   "source": []
  },
  {
   "cell_type": "code",
   "execution_count": null,
   "metadata": {},
   "outputs": [],
   "source": []
  },
  {
   "cell_type": "markdown",
   "metadata": {},
   "source": [
    "### Or can also be visualized as : \n",
    "### Occurances ::  See how many times words like love/hate/she/he appers\n",
    "#### Hypothesis : There is only one song in which Bob Dylan mentions the name \"Sara\", hence should occur at only one particular section"
   ]
  },
  {
   "cell_type": "code",
   "execution_count": null,
   "metadata": {},
   "outputs": [],
   "source": []
  },
  {
   "cell_type": "code",
   "execution_count": null,
   "metadata": {},
   "outputs": [],
   "source": []
  },
  {
   "cell_type": "code",
   "execution_count": 20,
   "metadata": {},
   "outputs": [
    {
     "name": "stdout",
     "output_type": "stream",
     "text": [
      "0.00436955512466887 % of the corpus is taken by word 'clown'\n",
      "0.013108665374006609 % of the corpus is taken by word 'Sara'\n",
      "0.27746675041647323 % of the corpus is taken by word 'she'\n",
      "0.21629297867110905 % of the corpus is taken by word 'She'\n"
     ]
    }
   ],
   "source": [
    "corpus_text = nltk.Text(corpus_tokenized)\n",
    "def occurs(words):\n",
    "    for word in words:\n",
    "        count = corpus_text.count(word)\n",
    "        as_per = 100 * count / len(corpus_text)\n",
    "        print(f\"{as_per} % of the corpus is taken by word '{word}'\")\n",
    "        \n",
    "occurs([\"clown\",\"Sara\",\"she\",\"She\"])"
   ]
  },
  {
   "cell_type": "code",
   "execution_count": 21,
   "metadata": {},
   "outputs": [
    {
     "data": {
      "image/png": "[encoded data removed]",
      "text/plain": [
       "<Figure size 1200x600 with 1 Axes>"
      ]
     },
     "metadata": {
      "needs_background": "light"
     },
     "output_type": "display_data"
    }
   ],
   "source": [
    "corpus_text.dispersion_plot(['she','he','love','clown','Sara'])"
   ]
  },
  {
   "cell_type": "markdown",
   "metadata": {},
   "source": [
    "### Fast Facts :"
   ]
  },
  {
   "cell_type": "code",
   "execution_count": 22,
   "metadata": {},
   "outputs": [
    {
     "name": "stdout",
     "output_type": "stream",
     "text": [
      "Largest word in Bob Dylan's Corpus is : 'unintentionally' with length 15.\n"
     ]
    }
   ],
   "source": [
    "largest_word = sorted(set(corpus_tokenized), key=len,reverse=True)[0]\n",
    "print(f\"Largest word in Bob Dylan's Corpus is : '{largest_word}' with length {len(largest_word)}.\")"
   ]
  },
  {
   "cell_type": "markdown",
   "metadata": {},
   "source": [
    "### Average word length"
   ]
  },
  {
   "cell_type": "code",
   "execution_count": 23,
   "metadata": {},
   "outputs": [
    {
     "data": {
      "text/plain": [
       "3.9357830958184885"
      ]
     },
     "execution_count": 23,
     "metadata": {},
     "output_type": "execute_result"
    }
   ],
   "source": [
    "length = list(map(len, corpus_words))\n",
    "sum(length) / len(length)"
   ]
  },
  {
   "cell_type": "markdown",
   "metadata": {},
   "source": [
    "### Frquency of words:"
   ]
  },
  {
   "cell_type": "code",
   "execution_count": 24,
   "metadata": {},
   "outputs": [],
   "source": [
    "freq_dist = nltk.FreqDist(word.lower() for word in corpus_tokenized if word.isalpha())"
   ]
  },
  {
   "cell_type": "code",
   "execution_count": 25,
   "metadata": {},
   "outputs": [
    {
     "data": {
      "text/plain": [
       "[('the', 8634),\n",
       " ('i', 4741),\n",
       " ('you', 4493),\n",
       " ('and', 4455),\n",
       " ('to', 4300),\n",
       " ('a', 3855),\n",
       " ('in', 2791),\n",
       " ('of', 2524),\n",
       " ('me', 1865),\n",
       " ('my', 1820),\n",
       " ('that', 1744),\n",
       " ('it', 1716),\n",
       " ('on', 1541),\n",
       " ('your', 1451),\n",
       " ('he', 1252),\n",
       " ('for', 1226),\n",
       " ('all', 1204),\n",
       " ('was', 1199),\n",
       " ('is', 1180),\n",
       " ('but', 1145),\n",
       " ('be', 1092),\n",
       " ('im', 1052),\n",
       " ('with', 1014),\n",
       " ('she', 904),\n",
       " ('they', 844)]"
      ]
     },
     "execution_count": 25,
     "metadata": {},
     "output_type": "execute_result"
    }
   ],
   "source": [
    "freq_dist.most_common(25)"
   ]
  },
  {
   "cell_type": "markdown",
   "metadata": {},
   "source": [
    "### Hapaxes"
   ]
  },
  {
   "cell_type": "code",
   "execution_count": 26,
   "metadata": {},
   "outputs": [],
   "source": [
    "hapaxes = freq_dist.hapaxes()"
   ]
  },
  {
   "cell_type": "code",
   "execution_count": 27,
   "metadata": {},
   "outputs": [
    {
     "name": "stdout",
     "output_type": "stream",
     "text": [
      "Total number of Hapaxes : 2792 or 32.45756800744013 % of the total corpus\n"
     ]
    }
   ],
   "source": [
    "print(f\"Total number of Hapaxes : {len(hapaxes)} or {100 * len(hapaxes)/vocabulary} % of the total corpus\")"
   ]
  },
  {
   "cell_type": "code",
   "execution_count": 28,
   "metadata": {},
   "outputs": [
    {
     "data": {
      "text/plain": [
       "['ranger',\n",
       " 'tonto',\n",
       " 'fixing',\n",
       " 'shooter',\n",
       " 'taketh',\n",
       " 'teacheth',\n",
       " 'builder',\n",
       " 'rainbows',\n",
       " 'shapeth',\n",
       " 'turneth',\n",
       " 'dwells',\n",
       " 'solemnly',\n",
       " 'lincolns',\n",
       " 'bombed',\n",
       " 'bled',\n",
       " 'lynching',\n",
       " 'gladiators',\n",
       " 'cheered',\n",
       " 'tread',\n",
       " 'dread',\n",
       " 'shedding',\n",
       " 'layer',\n",
       " 'persecutor',\n",
       " 'manipulator',\n",
       " 'sodom']"
      ]
     },
     "execution_count": 28,
     "metadata": {},
     "output_type": "execute_result"
    }
   ],
   "source": [
    "hapaxes[:25]"
   ]
  },
  {
   "cell_type": "markdown",
   "metadata": {},
   "source": [
    "## Zipfs"
   ]
  },
  {
   "cell_type": "code",
   "execution_count": 29,
   "metadata": {},
   "outputs": [
    {
     "data": {
      "text/plain": [
       "[<matplotlib.lines.Line2D at 0x1ed6da8dbe0>]"
      ]
     },
     "execution_count": 29,
     "metadata": {},
     "output_type": "execute_result"
    },
    {
     "data": {
      "image/png": "[encoded data removed]",
      "text/plain": [
       "<Figure size 1200x600 with 1 Axes>"
      ]
     },
     "metadata": {
      "needs_background": "light"
     },
     "output_type": "display_data"
    }
   ],
   "source": [
    "words = [w for w in corpus_tokenized if w.isalpha()]\n",
    "fdist = nltk.FreqDist(words)\n",
    "e = [no for no in fdist.values()]\n",
    "counts = sorted(e,reverse=True)\n",
    "plt.figure()\n",
    "plt.yscale('log')\n",
    "plt.xscale('log')\n",
    "plt.plot(counts)"
   ]
  },
  {
   "cell_type": "markdown",
   "metadata": {},
   "source": [
    "### According to the figure above, we can confirm Zipf's law. At the extreme right end of the plotted line, there are apparent steps, which means that a lot of words have quite low occurences. At the extreme left end, the line is quite flat, which means the frequencies of the first few most frequent words are close that they do not drop as quickly as the ones ranking in the middle."
   ]
  },
  {
   "cell_type": "code",
   "execution_count": 30,
   "metadata": {},
   "outputs": [],
   "source": [
    "as_dict = pd.Series(by_years.lyrics.values,index=by_years.year).to_dict()\n",
    "years = [\"'\"+str(year)[2:-2] for year in as_dict.keys()]"
   ]
  },
  {
   "cell_type": "markdown",
   "metadata": {},
   "source": [
    "### Question beggin through years"
   ]
  },
  {
   "cell_type": "code",
   "execution_count": 31,
   "metadata": {},
   "outputs": [],
   "source": [
    "quest_dict = {}\n",
    "def question(df):\n",
    "    year = 0\n",
    "    for song in df.lyrics.values:\n",
    "        year += 1\n",
    "        qm = song.count(\"?\")\n",
    "        quest_dict[year] = qm\n",
    "    return quest_dict\n",
    "question = question(by_years)\n",
    "question_by_years = dict(zip(years[:-1], list(question.values()))) "
   ]
  },
  {
   "cell_type": "code",
   "execution_count": 32,
   "metadata": {},
   "outputs": [],
   "source": [
    "# plt.xticks(rotation='vertical')\n",
    "# plt.plot(list(question_by_years.keys()),list(question_by_years.values()),\".-.\")"
   ]
  },
  {
   "cell_type": "code",
   "execution_count": null,
   "metadata": {},
   "outputs": [],
   "source": []
  },
  {
   "cell_type": "code",
   "execution_count": null,
   "metadata": {},
   "outputs": [],
   "source": []
  },
  {
   "cell_type": "code",
   "execution_count": null,
   "metadata": {},
   "outputs": [],
   "source": []
  },
  {
   "cell_type": "code",
   "execution_count": null,
   "metadata": {},
   "outputs": [],
   "source": []
  },
  {
   "cell_type": "code",
   "execution_count": null,
   "metadata": {},
   "outputs": [],
   "source": []
  },
  {
   "cell_type": "code",
   "execution_count": null,
   "metadata": {},
   "outputs": [],
   "source": []
  },
  {
   "cell_type": "code",
   "execution_count": null,
   "metadata": {},
   "outputs": [],
   "source": []
  },
  {
   "cell_type": "code",
   "execution_count": null,
   "metadata": {},
   "outputs": [],
   "source": []
  },
  {
   "cell_type": "code",
   "execution_count": null,
   "metadata": {},
   "outputs": [],
   "source": []
  },
  {
   "cell_type": "code",
   "execution_count": null,
   "metadata": {},
   "outputs": [],
   "source": []
  },
  {
   "cell_type": "markdown",
   "metadata": {},
   "source": [
    "### Collocations (Bigrams/Trigrams) in Dylan's Corpus\n",
    "#### Makes sense, sheer amount of repitation in songs. As expected most of the bigrams are just song names or hooks in the songs (Idiot wind ( song title ) / jingle jangle (Mr. Tambourine Man)) etc"
   ]
  },
  {
   "cell_type": "code",
   "execution_count": 33,
   "metadata": {},
   "outputs": [
    {
     "name": "stdout",
     "output_type": "stream",
     "text": [
      "Key West; New York; true love; Tambourine Man; dont know; Idiot wind;\n",
      "heavens door; neighborhood bully; Theyll stone; Memphis blues;\n",
      "Desolation Row; door Knock; stuck inside; Queen Jane; far away; Wanted\n",
      "man; simple twist; serve somebody; Handy Dandy; jingle jangle\n"
     ]
    }
   ],
   "source": [
    "corpus_text.collocations()"
   ]
  },
  {
   "cell_type": "markdown",
   "metadata": {},
   "source": [
    "### Most common n-grams \n",
    "#### 1) bigrams 2) trigrams 3) 4-gram 4) 5-gram \n"
   ]
  },
  {
   "cell_type": "code",
   "execution_count": 34,
   "metadata": {},
   "outputs": [],
   "source": [
    "bigrams = nltk.FreqDist(ngrams(corpus_words,2)).most_common(10)\n",
    "trigrams = nltk.FreqDist(ngrams(corpus_words,3)).most_common(10)\n",
    "grams_4 = nltk.FreqDist(ngrams(corpus_words,4)).most_common(10)\n",
    "grams_5 = nltk.FreqDist(ngrams(corpus_words,5)).most_common(10)"
   ]
  },
  {
   "cell_type": "code",
   "execution_count": 35,
   "metadata": {},
   "outputs": [
    {
     "data": {
      "text/plain": [
       "[(('in', 'the'), 973),\n",
       " (('on', 'the'), 456),\n",
       " (('of', 'the'), 441),\n",
       " (('to', 'the'), 402),\n",
       " (('I', 'was'), 260),\n",
       " (('to', 'be'), 256),\n",
       " (('I', 'dont'), 224),\n",
       " (('in', 'a'), 224),\n",
       " (('from', 'the'), 221),\n",
       " (('and', 'the'), 209)]"
      ]
     },
     "execution_count": 35,
     "metadata": {},
     "output_type": "execute_result"
    }
   ],
   "source": [
    "bigrams"
   ]
  },
  {
   "cell_type": "code",
   "execution_count": null,
   "metadata": {},
   "outputs": [],
   "source": []
  },
  {
   "cell_type": "code",
   "execution_count": null,
   "metadata": {},
   "outputs": [],
   "source": []
  },
  {
   "cell_type": "code",
   "execution_count": null,
   "metadata": {},
   "outputs": [],
   "source": []
  },
  {
   "cell_type": "code",
   "execution_count": 36,
   "metadata": {},
   "outputs": [],
   "source": [
    "# trigrams"
   ]
  },
  {
   "cell_type": "code",
   "execution_count": 37,
   "metadata": {
    "scrolled": true
   },
   "outputs": [],
   "source": [
    "# grams_4"
   ]
  },
  {
   "cell_type": "code",
   "execution_count": 38,
   "metadata": {},
   "outputs": [],
   "source": [
    "# grams_5"
   ]
  },
  {
   "cell_type": "code",
   "execution_count": null,
   "metadata": {},
   "outputs": [],
   "source": []
  },
  {
   "cell_type": "code",
   "execution_count": null,
   "metadata": {},
   "outputs": [],
   "source": []
  },
  {
   "cell_type": "code",
   "execution_count": null,
   "metadata": {},
   "outputs": [],
   "source": []
  },
  {
   "cell_type": "code",
   "execution_count": 39,
   "metadata": {},
   "outputs": [],
   "source": [
    "# cfd = nltk.ConditionalFreqDist((year,word) \n",
    "#                                for year in years\n",
    "#                                for word in as_dict[year].split())"
   ]
  },
  {
   "cell_type": "code",
   "execution_count": null,
   "metadata": {},
   "outputs": [],
   "source": []
  },
  {
   "cell_type": "markdown",
   "metadata": {},
   "source": [
    "### for ARI through years , use sentence segmentation \n",
    "Punkt sentence segmenter"
   ]
  },
  {
   "cell_type": "markdown",
   "metadata": {},
   "source": [
    "## Segmentation"
   ]
  },
  {
   "cell_type": "code",
   "execution_count": null,
   "metadata": {},
   "outputs": [],
   "source": []
  },
  {
   "cell_type": "code",
   "execution_count": null,
   "metadata": {},
   "outputs": [],
   "source": []
  },
  {
   "cell_type": "markdown",
   "metadata": {},
   "source": [
    "### The Automated Readability Index (ARI) of the text is defined to be: 4.71 μw + 0.5 μs - 21.43\n",
    "#### Let us define μw to be the average number of letters per word, and μs to be the average number of words per sentence, in a given text. "
   ]
  },
  {
   "cell_type": "code",
   "execution_count": 40,
   "metadata": {},
   "outputs": [],
   "source": [
    "# ari_dict = {}\n",
    "# def ari(df):\n",
    "#     year = 0\n",
    "#     for song in df.lyrics.values:\n",
    "#         year += 1\n",
    "#         punkted = nltk.sent_tokenize(song)\n",
    "#         uw = list(map(len, punkted))\n",
    "#         avg_uw = sum(uw) / len(uw)\n",
    "#         us = [len(sent.split()) for sent in punkted]\n",
    "#         avg_us = sum(us) / len(us)\n",
    "#         ari = 4.71 * avg_uw + 0.5 * avg_us - 21.43    \n",
    "#         ari_dict[year] = round(ari/1000)\n",
    "#     return ari_dict\n",
    "# ari = ari(by_years)\n",
    "# ari_by_years = dict(zip(years[:-1], list(ari.values()))) "
   ]
  },
  {
   "cell_type": "code",
   "execution_count": null,
   "metadata": {
    "scrolled": true
   },
   "outputs": [],
   "source": []
  },
  {
   "cell_type": "code",
   "execution_count": 41,
   "metadata": {
    "scrolled": false
   },
   "outputs": [],
   "source": [
    "# plt.xticks(rotation='vertical')\n",
    "# plt.plot(list(ari_by_years.keys()),list(ari_by_years.values()))"
   ]
  },
  {
   "cell_type": "code",
   "execution_count": null,
   "metadata": {
    "scrolled": true
   },
   "outputs": [],
   "source": []
  },
  {
   "cell_type": "markdown",
   "metadata": {},
   "source": [
    "## Wordcloud"
   ]
  },
  {
   "cell_type": "code",
   "execution_count": 42,
   "metadata": {},
   "outputs": [],
   "source": [
    "from nltk.corpus import stopwords\n",
    "stop_words = set(stopwords.words('english'))"
   ]
  },
  {
   "cell_type": "code",
   "execution_count": 43,
   "metadata": {},
   "outputs": [],
   "source": [
    "def cleaner(c_w):\n",
    "    cw = [word for word in c_w if word.lower() not in stop_words]\n",
    "    return cw"
   ]
  },
  {
   "cell_type": "code",
   "execution_count": 106,
   "metadata": {},
   "outputs": [],
   "source": [
    "t = cleaner(corpus_words)\n",
    "f = ''\n",
    "for i in t:\n",
    "    f += i + ' '\n",
    "f = (f)"
   ]
  },
  {
   "cell_type": "code",
   "execution_count": 45,
   "metadata": {},
   "outputs": [],
   "source": [
    "# from PIL import Image\n",
    "# from wordcloud import WordCloud, STOPWORDS\n",
    "# import cv2"
   ]
  },
  {
   "cell_type": "code",
   "execution_count": 46,
   "metadata": {},
   "outputs": [],
   "source": [
    "# mask = cv2.imread(r\"C:/Users/jayes/Desktop/martin-dupuis_glazer_11.jpg\",1)"
   ]
  },
  {
   "cell_type": "code",
   "execution_count": 47,
   "metadata": {},
   "outputs": [],
   "source": [
    "# stopwords = STOPWORDS\n",
    "# stopwords.update(['us', 'one', 'will', 'said', 'now', 'well', 'man', 'may',\n",
    "#  'little', 'say', 'must', 'way', 'long', 'yet', 'mean',\n",
    "#  'put', 'seem', 'asked', 'made', 'half', 'much',\n",
    "#  'certainly', 'might', 'came','say','well','dont','got','know','see','Im','aint','youre','theres','Ive'])"
   ]
  },
  {
   "cell_type": "code",
   "execution_count": 48,
   "metadata": {},
   "outputs": [],
   "source": [
    "# wc = WordCloud(max_words=1000,\n",
    "#      relative_scaling=0.5,\n",
    "#      background_color='white',\n",
    "#      margin=0,\n",
    "#      mask=mask,\n",
    "#      stopwords=stopwords,\n",
    "#      random_state=7,\n",
    "#      contour_width=0,\n",
    "#      contour_color='white',\n",
    "#      colormap='copper').generate(f)\n",
    "# colors = wc.to_array()"
   ]
  },
  {
   "cell_type": "code",
   "execution_count": 49,
   "metadata": {},
   "outputs": [],
   "source": [
    "# plt.figure()\n",
    "# plt.imshow(colors, interpolation=\"bilinear\")\n",
    "# plt.axis('off')\n",
    "# plt.show()"
   ]
  },
  {
   "cell_type": "code",
   "execution_count": null,
   "metadata": {},
   "outputs": [],
   "source": []
  },
  {
   "cell_type": "code",
   "execution_count": null,
   "metadata": {},
   "outputs": [],
   "source": []
  },
  {
   "cell_type": "code",
   "execution_count": 50,
   "metadata": {},
   "outputs": [],
   "source": [
    "from itertools import chain\n",
    "from nltk.corpus import wordnet as wn\n",
    "import inflect"
   ]
  },
  {
   "cell_type": "code",
   "execution_count": 51,
   "metadata": {},
   "outputs": [],
   "source": [
    "p = inflect.engine()"
   ]
  },
  {
   "cell_type": "markdown",
   "metadata": {},
   "source": [
    "# Common Motifs \n",
    "### Synsets Perhaps?"
   ]
  },
  {
   "cell_type": "markdown",
   "metadata": {},
   "source": [
    "clean the corpus of stopwords, puncts - Done\n",
    "extract all nouns\n",
    "make a set out of it \n",
    "for each word make a synset\n",
    "show words with max synsets :: DOne!!"
   ]
  },
  {
   "cell_type": "markdown",
   "metadata": {},
   "source": [
    "#### NN\tnoun, singular (cat, tree)\n",
    "#### NNS\tnoun plural (desks)\n",
    "#### NNP\tproper noun, singular (sarah)\n",
    "#### NNPS proper noun, plural (indians or americans)"
   ]
  },
  {
   "cell_type": "code",
   "execution_count": 98,
   "metadata": {},
   "outputs": [],
   "source": [
    "tokenized = nltk.word_tokenize(f)\n",
    "sing_n = {sets[0] for sets in nltk.pos_tag(tokenized) if sets[1] == 'NN'}\n",
    "plu_n = {sets[0] for sets in nltk.pos_tag(tokenized) if sets[1] == 'NNS'}\n",
    "sing_prop_n = {sets[0] for sets in nltk.pos_tag(tokenized) if sets[1] == 'NNP'}\n",
    "plu_prop_n = {sets[0] for sets in nltk.pos_tag(tokenized) if sets[1] == 'NNPS'}\n",
    "nouns = set(chain(sing_n,plu_n,sing_prop_n,plu_prop_n))"
   ]
  },
  {
   "cell_type": "code",
   "execution_count": 53,
   "metadata": {},
   "outputs": [],
   "source": [
    "# plural_nouns = set()\n",
    "# for word in nouns:\n",
    "#     sing = p.singular_noun(word)\n",
    "#     if sing:\n",
    "#         plural_nouns.add(sing)\n",
    "#     else:\n",
    "#         plural_nouns.add(word)"
   ]
  },
  {
   "cell_type": "code",
   "execution_count": null,
   "metadata": {},
   "outputs": [],
   "source": []
  },
  {
   "cell_type": "markdown",
   "metadata": {},
   "source": [
    "#### Locate all the geographical places mentioned in the song"
   ]
  },
  {
   "cell_type": "code",
   "execution_count": 100,
   "metadata": {},
   "outputs": [],
   "source": [
    "import spacy"
   ]
  },
  {
   "cell_type": "code",
   "execution_count": null,
   "metadata": {},
   "outputs": [],
   "source": []
  },
  {
   "cell_type": "code",
   "execution_count": 118,
   "metadata": {},
   "outputs": [],
   "source": [
    "def entityreco(text):\n",
    "#     person = set()\n",
    "#     norp = set()\n",
    "#     fac = set()\n",
    "#     gpe = set()\n",
    "#     loc = set()\n",
    "#     product = set()\n",
    "#     event = set()\n",
    "#     works = set()\n",
    "#     lang = set()\n",
    "    \n",
    "    person = []\n",
    "    norp = []\n",
    "    fac = []\n",
    "    gpe = []\n",
    "    loc = []\n",
    "    event = []\n",
    "    works = []\n",
    "    lang = []\n",
    "    \n",
    "    nlp = spacy.load(\"en_core_web_sm\")\n",
    "    doc = nlp(text)\n",
    "    for entity in doc.ents:\n",
    "#         if entity.label_ == \"PERSON\":\n",
    "#             person.add(entity)\n",
    "#         if entity.label_ == \"NORP\":\n",
    "#             norp.add(entity)\n",
    "#         if entity.label_ == \"FAC\":\n",
    "#             fac.add(entity)  \n",
    "#         if entity.label_ == \"GPE\":\n",
    "#             gpe.add(entity)\n",
    "#         if entity.label_ == \"LOC\":\n",
    "#             loc.add(entity)\n",
    "#         if entity.label_ == \"EVENT\":\n",
    "#             event.add(entity)\n",
    "#         if entity.label_ == \"WORK_OF_ART\":\n",
    "#             works.add(entity)\n",
    "#         if entity.label_ == \"LANGUAGE\":\n",
    "#             lang.add(entity)\n",
    "            \n",
    "        if entity.label_ == \"PERSON\":\n",
    "            person.append(entity)\n",
    "        if entity.label_ == \"NORP\":\n",
    "            norp.append(entity)\n",
    "        if entity.label_ == \"FAC\":\n",
    "            fac.append(entity)  \n",
    "        if entity.label_ == \"GPE\":\n",
    "            gpe.append(entity)\n",
    "        if entity.label_ == \"LOC\":\n",
    "            loc.append(entity)\n",
    "        if entity.label_ == \"EVENT\":\n",
    "            event.append(entity)\n",
    "        if entity.label_ == \"WORK_OF_ART\":\n",
    "            works.append(entity)\n",
    "        if entity.label_ == \"LANGUAGE\":\n",
    "            lang.append(entity)    \n",
    "                     \n",
    "    print(\"person : \",set(person))\n",
    "    print(\"norp : \",set(norp))\n",
    "    print(\"fac : \",set(fac))\n",
    "    print(\"gpe : \",set(gpe))\n",
    "    print(\"loc : \",set(loc))\n",
    "    print(\"event : \",set(event))\n",
    "    print(\"works : \",set(works))\n",
    "    print(\"lang : \",set(lang))"
   ]
  },
  {
   "cell_type": "code",
   "execution_count": 119,
   "metadata": {},
   "outputs": [
    {
     "name": "stdout",
     "output_type": "stream",
     "text": [
      "person :  {Louise, Queen Jane, Verlaines Rimbaud, Mamas, Abraham Kill, Cecil B DeMille, Willie, Wonder, Macys, Ill, Mamas, Haul bowline, Neil Young, Blowing, babe, Rubin Carter, Standin, Fidel Castro, John Brown, Ill, Chorus Johnny Cash, minstrel, Aberdeen, England France, Sugar Baby, Hmm, Grassy Knoll Stack, Louise, Ill, Saying Tell, Queen Jane, Moneys, Glass, Commie, Adam, Ill, Wabasha Honey, baby l l love, Davey Moore, Ill, hurt yer eyesve, babe, Erica Jong, Willie, Lawd God, Hmm, Jack Hearts Rosemary, Propaganda, Oxford Town, Medgar Evers, Cecil B DeMille, Gypsy Lous, Jack Hearts, babe, Savanna la, Sally American, Queen Jane Aw, Heading Gates, Jesus, George Lincoln Rockwell, Abe, Rita, babe, Williams Point, Highway, Bello Bradley, Jones, Rosie, Nettie Moore, Slip, Arthur Dexter Bradley, Blind Willie McTell, Bent, Abe, Lenny Bruce, Boy, Hattie Carroll, Moonshine, Til, Willie, Tony Perkins, Ill, Grandpa, Neil Young, Gods, Ferris, Bow, Emmett, Botticelli, Homer, Rita, Fidel Castro, Johns, Ill, Hold Doc, Ill, Sonny Terry Brownie McGhee, Gypsy Lous, Fee, Ill, Put jewel crown, Depending, hurry busy, Jesus, Man, Babe, Jones, Mayflower, Mavis, Willie, Ill, moon stranger, Mama, Said Son, Jim Starin, moon, Dah da dah, Rosie, Queen Jane, La Dolce Vita, Adam Eve, Ill, Preacherman, Romeo, Said Heres, gutter heard, Davey Moore, Achilles, minstrel, Lay, Belle Starr, Daylight, Hmm, Ill, Ill, Ill, Adam Eve, Howard, Gabriel, Dum Tweedle, sun Howm, Nellie Johnson, Makin, knowed, idiots babe, Jimmy Reed, Ill, Jolene Jolene Baby, Patty Valentine, Big Jim, Medgar Evers, Leaves, Jack Play, Lenny Bruce, Nietzsche Wilhelm Reich, Swing, Jack Hearts Lily, Lot, Ill, Rita, Ill, Hmm, Jack Hearts Lily, Ill, Got, Mohammed one, Saint Peters, Jesus, Reggie Jackson, Clifford Brown Blind, Woody Guthrie, Pat Garrett, John Donne, Davey Moore, Milwaukee Wanted, Rita, Ill, Lift, Ill, Pequod, blowin, Queen Jane, Willie, Sweet Melinda, Pat Garretts, Queen Mary, Ill, Nothin, La Dolce Vita, Paul Reveres, Cheyenne Wherever, Ill, mornin Ill, Arthur Dexter Bradleys, Roll Willie roll, Hollis Brown, Aw Mama, Ill, bendin, Got, gather, Jones, Caint, Lonely Sign, Ill, Mamas, sin ghetto build, Hattie Carroll, Ifn, Carl Wilson, Ill, Boy, Slip, Ill, Marilyn Monroe, Willie, Maw Ill, St Catherine, John Bircher, Frankie Lee, Duquesne, Gypsy Lous, Ill, Ill, Rubin, Jones, Rubin Carter, rainy love, hearts hung, Lenny Bruce, Rounder, Lot, Queen Jane, Ill, Van Gogh, Ill Santa Fe, Mother, fallin dogsll, William Zanzinger, pawn babe, Caint, Quiet Western Front, Mondrian Van Gogh, Seems, Rockefeller, Ill, Plays, Judy, Gypsy gal, Weary, Ill, Tom Dooley hung, Babe, Blind Willie McTell, Bury em, Ill, Hang, Jim Rubin, Belong Believe, Adam, Leave, Ill, Ill, babe light, Roll Willie roll, Rubin, Willie, Roll Willie roll, hangin, babe sucks, Patty, Gypsy Lou, Juarez Juanita, Ill, Madonna, Ill, Got, Ill, Jim, Ill, Jumped, Jack Hearts Rosemary, sun Howm, Richard Burton, Gypsy Lou, Indiana Wanted, Bringin, Mary Jane, Gypsy Lous, Relationships, babe, Mary, Swing, Tom Paine, Jimmy Reed Jimmy Reed, Woody Guthrie Woody, Queen Jane Aw, Ill, Jolene Jolene Baby, Aberdeen, Estelle, Listen Duquesne, Samantha Brown, Johanna, Jones, Relationships, Anne Frank, Blind Willie McTell, sweet Marie, Ill, Ill, Jim, Ill Dixie, Ill, Lenny Bruce, doze, Ill, Purple, Leon Russell, Gypsy Lous, Sally, Queen Jane, Ooh, Judas, Boy, Mamas, Napoleon Bonaparte, Black Diamond Bay, Told Jesus, Belle Starr, Fat, Roll Willie roll, Buddha, Jones, Yknow, Ill, babys, Preacher, Starbuck tells, Said Heres, Scarlett, Fidel Castro, Doom Machine, Dealey Plaza, Nancy, Til, Rita Looking, Boot Hill, Jeannie Brown, Larry Joey, Limited, Henry Lee, Rubin Carter, Milwaukee Wanted, Charles Atlas, Swing, Commie, Sally, Roll Willie roll, Jones, John Wesley Harding, Ill, Ill, Billy, Tom Paine, Rubins, Shut mouth, Ill, tomb Blowing, Lily, Niagara Falls, Sacramento, Bob, Trying, Notre Dame, sober, Working, idiots babe, Lucy Watson, Lily, Ill, Ill, knowed, mornin Ill, Billy, Got, William Zanzinger, Gonn, Moby, St John Apostle Ill, Ruth Something, Betsy Ross, Davey Moore, yer head, Frankie, Lucy, Waitin, Cinderella, Mary Lou, Ill, Ill, Duluth Danny Lopez, Ill, Ill, Dead, Underneath, Arab, Mamas, Swept, yer rope slidin, Good Samaritan, Louise, callin, Oscar Peterson, Shelter, Johnny Cash, Desire Looking, Kiss, Bent, Billy, Jerome, swimmy tears, Wildwood, Crimson, Davey Moore, Ill, Hattie Carroll, ton, John Baptist, Ill, Tweedle, Billy, Midsummers Eve, Richard Lee, Clarksdale Everything, Georgia Sam, Judas Priest, Hoof, Jones, George Lewis, Ill, babe truer, Sara, Santa Claus, Ill, Louis Jimmy Buddy, George Lincoln Rockwell, Frankie, Lily, Billy, Notre Dame, Killed, babe Ill, Gypsy Lous, rob fountain pen, William Zanzinger, Cassius Clay, Sampson, Billy, Ill, Indiana Wanted, Judas Iscariot, idiots babe, Lenny Bruce, Delacroix, Corrina Corrina Girl, Jack Hearts, babe Ill, Achilles, Ill, Jesus, Jack Hearts, Shelter, Man, Shelter, Ill, gutter heard, Henry Kissingers, Fee fie, Mamas, Thump Bible, moon, Sweet Melinda, jackhammer falls yer, Henry Porter, Mamas, Lay, Ill, Scarface, Oh Jokerman, Lose, Blind Willie McTell, blowin blowin, Ill, Aw Mama, Howard, Da da dah da, Intercedes, Jack Hearts Lily, Hmm, Wreckin, Tomorrows, Day Wolfman Jack, Mary Lou, Hmm, Rita, Ill, Mamas, Ill, Leanin, Betrayed, Joey Joey, Old Howard, watchman click, Mamas, Abe, Swing Got, Handy Dandy, Jack Hearts, Roll Willie roll, St James Hotel, Ill, Cabin Woods, ALittle Jack Horner, Leo, Guernsey, Lay, Crowdin, hummin Til, Ill, Willie, Rockefeller, Mona, Rita, Propaganda, Jim Crow, Hmm, Louie King, Abe, sun Howm, Frankie Lee, Julius Caesar, Rita, Willie, Jack Hearts, Mistress Mary, Wowee Pretty, St Mary, Tom Paines, Rita, Patty Valentine, Ill, Ill, debutante, Sweet Martha, jigsaw puzzle, Ill, Ill, Greasy kid, Willie, Hollis Brown, William Zanzinger, Willie, Uncle, Jimmy Reed, Queen Jane, Tony Perkins, Heading Gates, Blowing, Rosemary, Bent, babe, Cept beggin, Tattooed, Ill Little, Jack Hearts, Harold Lloyd, Blind, glistens sun, Henry Lee, mornin Ill, Cubas, Jim Rubin, Ill, Goliath, Bello Bradley, St James Hotel, Johanna, Boy, Lee Ill, Kissed, Askin, Goodbye Charlie, Hazel, Jack Hearts, Ill, Lone Wolf, babe vacuum, Billy Joe Shaver, William Zanzinger, Susan, God, Sestos Abydos, Willie, Ill, Ill, Queen Jane, Ill, Heard, moon Brownsville, Ill, Willie, Julius Ethel Julius, Willie, St Augustine Alive, Moby, Ill, Moby Dick, Frankie Lee, Ill, Ill, blues, Howdy, Ill, William Blake, Limited, Jimmy Reed, Davey Moore, Duquesne, Billy, Louise, moon, Marilyn Monroe Play, Pat Garretts, David, babe Ill, evry, Ill, Mona, Henry Lee, Delacroix, Sally, George Lincoln Rockwell, Starbuck Stubb Marthas, Teeth, Law, Uncle Tom, Louie King, Patty Valentine, Gods, Sharon, Grandma, Howard, Wolfman, Sweet Goddess, Ashes, Ill, Dust, Shelter, Jack Hearts, Frankie Lee, Mama, Abe, Listen Duquesne, Uncle Sam, Gomorrah, Highway, Moby Dick, watchman click, Love, bendin, da da dah dah da da dah dahun, Buddha, Woody Guthrie, Lawman, Ill, Ill, Alfred Bello rap, Combin, Rubins, Baby, Get Ill, Johnny, Looking cook, Lookin, Ill, Duquesne, Tom Paine, Shakespeare, Johanna, Staying, Halcyon Gallery, Rubins, Handy Dandy, minstrel, Jack Hearts Big Jim, Crusoe Gullivers, Baby, Dupree, Mamas, Mary, Bello, Gypsy Lous, Hm hm hm Long, Rubin Carter, Raspberry, Kiss, Cheyenne Wherever, Dark Beauty, Shotgun, Blowing, Rubin, Plays, Indiana Wanted, Jack Hearts hangin, babe, Cover, Arthur Dexter Bradleys, Betsy Ross, Julius Ethel Julius, Willie, Paul Reveres, Baby, Ill, Saxophone Joe, Hmm, Kicks, Roll Willie roll, Hollow, Ill, Dresses, Rita, Flat Top Diner, Sally, moon, Get Ill, Patty Valentine, Ill, Howard, moon Brighton, Handy Dandy, Shelter, George Lincoln Rockwell, Johanna, Papa, Ill, Altars, Ill, Ill, Dandy Handy Dandy, Blowing, Patty, St Peter, Ill, Baby, Mary Lou Hello, Ill, Lily, babe, Dun, James Joyce, Stagger Lee, Ill, Crimson, Nettie Moore, Roman, Maggie Anne, Ohio, Roll John roll, Corrina Corrina Girl, Mamas, Terry, blues, idiots babe, Pope, Jones, Cept cook, Jesus, Jim Backus, Lily, minstrel, Calvin Blake Wilson, Jesus, Goodbye Jimmy Reed, yer head, babe, Mamas, Rounder, Buddha, Captain Boomer, Shakespeare, Ill, Ill, Ill, Ill Saddle, Peter OToole stole, Love, Sally gal, Ill, yer jumping, Farewell Angelina, Jimmy Reed, Kidd, Willie, Grow Ooh wah, Pray, Thisaway, Blowing, Patty, Colt, Throw, Mona Lisa, Jones, whistle blowin, tomb Blowing, felt hail, Papa, Ill, Goodbye Jimmy Reed, Man, Willie, Ill, Ill, Joe, babe light, Ill, blowin, babe, Jean Ritchie, Kidd, Ill, Aim, Dun, knockin heavens door, babe Ill, Snow White, feet hittin, Jack Hearts Rosemary, Calliope, knockin heavens, Mr Goldsmith, Johnson, Patsy Cline, Rita Lookin, babe, Queen Spades, Larry, Rub, Depart, ocean song, knockin heavens, Jack Ripper, Drinkin, yer, Garrett, Mineve, Guitars, John Bircher, Lot, Ridin, moon, seein, Boss Silly, Patty, Jim Backus, saxophone someplace, Julius Ethel Julius, Jesus Resent, Sam, Mineve, Barry Goldwater Move, Rubins, Bugsy Siegel, Joey, Boot Hill, Goodbye Jimmy Reed, Erica Jong, Pedro, Davey Moore, Dios, Rio Pecos, Aunt Sally, Van Gogh cook, Need, Robin Hood, Save, Billy Kid, Harvard Yale, Ill, Nettie Moore, Dun, Abe, Read Tashtego, Cecil B DeMille, Sweet William Holme, Van Gogh, sleeve babys, Gypsy Lous, Ill, Frankie Lee, Errol Flynn, Darling, Ill, yer, Pat Garretts, Shot, evry, Cat, Julius Ethel Julius, sun Howm, Man, Buddha, Lest, Frankie Lee, Queen Mary, Jones, John Revelator, William Zanzinger, Bello Moving, Judas Priest, aJesse James, needin, Ill, Rosemary, Ill, Gypsy Lou, Outro Johnny, Samantha Brown, Gypsy Lous, Haul bowline, Sam, Sally, Lily, Ding Dong, Joe Crazy, Con Ed, Sleepin, Trust, Guernsey, minstrel, Billy, babe, Jolene Jolene Baby, Hm hm, Abraham Lincoln, Jones, Johnny, Ill, Garrett, Queen Jane, Ill, po, Ill, Angelina, Abe, Honey, Blowing, Carry, Gon, Lucy, Got, Willie, Kennedy, Wanna, Listen Duquesne, skippin reels, Ill, knockin heavens, Ill, babe Ill, Lady Macbeth, Ramon, Man, Shakespeare, Jackson, babe, Marie, Patty Valentine, Rita, Ramona Come, yer, Jack Hearts Lily, Bette Davis, Mother, Commie, jack ace basement, Ill, Bartender, Ill, Bob Dylan, Did, Cheyenne Jackson Wherever, John Baptist, Bill, Phaedra, James, Lenny Bruce, James, Billy, underneath yer flat belly, Ol Howard, Ill, Roll Willie roll, Blowing, Alfred Bello, Da da dah da da Dada da da dah de dum Da da da dah da La da dah, Willie, Ill, Visions, Rainey Beethoven, Jesus, Jack Hearts, Bob Dylan, Ill, Ill, Mamas, Nothin, Ill, Con Edison, Queen Jane, Law, Mamas, sun Howm, Goddess Gloom, Louie King, Sunset Prairie Threatening Skies, Sigmund Freud, Cinderella, Louie King, Madame Butterfly, Judas Priest, Kennedy, Jimmy Reed, Gregory, Ill, Baby, Jones, Hollow, Con Ed, Handy Dandy, Ill, Abilene Wonderin, Henry Lee, Rainey Beethoven, Rubin, Man, Bent, Carry, Kandinsky Rouault, Ill, Davey Moore, Judas, Fidel Castro, Highway, Blowing, Lord Way, Howard, Someday, Angelina, kinda, Big Jim, Ill, Jones, William Zanzinger, Patty, Turk, Queen Jane, Shelter, Johanna, Old Howard, Gypsy Davey, Ill, Ill, yer, Ill, John, Buffallo, Michelangelo, Billy, Johnny Cash, Roll Willie roll, Yellow Dog, Ill, sweetheart brakeman, Ill, Ill, babe, Shakespeare, Roll Willie roll, La Rio Pecas, Wondrin, Cubas, Mayflower, Lincoln Jefferson Roosevelt, Carolina, Cinderella, Billy, Quinn, Leaves, Jack Hearts Lilys, Alicia Keys, Cover, Proddie, sun Howm, Jones, Ill, Frankie Lee Judas Priest, Nothin, Hollis Brown, Hattie Carroll, Jim, Maggie Anne, Henry, Georgia Sam, mark overstep, Said, Abraham Lincoln, Blowing, Davey Moore, babe, Corrina Corrina Girl, Ill, Man, Mr Smith, sweet Marie, Ill, Gypsy Lous, Lift, shakin yer, Achilles, Whose, Pearl, Sara Glamorous, Mary Jane, Gon, Belong Believe, X, La Dolce Vita, Sweet Goddess Born, wolf, Ill, Rita, Bello Moving, Daggoo Fleece, gal Ill, Billy, Sunken, Billy, prophet, Ill, Lets, Gypsy Lous, Pick, Lenny Bruce, Madame Butterfly, Queen Anne Lace Crimson, Rita, Babe, callin, Songwriter Bob Dylan, mornin Ill, Willie, Mamas, Bob Dylan, Sherlock Holmes Followed, sun Howm, Judas Eternity, Ill, Bo Diddley, Babe, Ill, Blues, Cain, Jesus Christ, babe, John Thomas, Turnin, Ill, babe, babe light, Joey Joey King, Sugar Baby, Adam Eve, standin doorway, Ill, Ill sit, Roll Willie roll, Juliet, Handy Dandy, Boss, Lenny Bruce, Verse McKinley, God, Ill, Fat Nancy, Billy, Howdy, Heard, sun Howm, babe Ill, Arthur Dexter Bradley, Stabbin, Abe, stare yer good gal, Davey Moore, Heard, deeee de de, Gabriel Rachel, Queen Mary, Mamas, Saying Tell, Ill, Attica, Bill, knowed, Karl Marx, ray hope, Cinderella, Ill, Rosemary, Ill, Ill, Davey Moore, Judas Iscariot, Lucille Play, Calvin Blake Wilson, Rainey Beethoven, Look Molly, Visions, kinda lover, Sally, Hopin, Ill, Prayed ghetto, Ill, Sara Sweet, felt hail, John Brown, Wabasha Honey, Stripes shoulders Stripes, Burgundy, Mary Anne, Jack Hearts, Elizabeth Taylor Catch, Clicked, Abraham Kill, Gypsy Davey, Jones, Blowing, Ill, babe honey, Man, Mr Marx, Englishman, Ill, Went, Hang, Samantha Brown, Jack Cowboy, Nettie Moore, Ill, Cassius Clay, kiddin, Willie, Sam, Queen Jane, moon, Preacher, Louie King, Visions, Hudson, Discover, Staying, Mamas, Lenny Bruce, Peter Peter, Pretty, Ill, Ill, Arthur Dexter Bradley, Jefferson, Rita, Uncle Bill, Jack Hearts Rosemary, Blind, Propaganda, Sherlock Holmes Followed, Betsy, Ill, Boy, Roman Kings Ill, Mary Anne, Sanskrit Arabic, Gypsy Davey, Ill, Willie, Ill, Nettie Moore, Billy, Verlaines Rimbaud, mornin Ill, Rita Looking, Louisiana Babe, John Bircher, Ill, Ill, Odysseus, Ill, Lucy Say, Mar Sara, Jim McKays, lions mouth opens yer staring teeth jaws, Joe, Willie, Rosemary, Depart, Queen Jane, Ill, Ill, Plexiglass RCA, blowin, Californias, Lincoln Jefferson Roosevelt, Good Samaritan, Mary Anne, Belle Starr, Oz, Hmm, Gypsy Lous, Lily Pond Lane, Arab, Frankie Lee, Ill, babe, Ginsberg Corso Kerouac, Finleys, Queen Spades, Ill, Billy, Madonna Two, Shell, Lookin, Blowing, Farewell Angelina, Ill, Romeo, gamblin, Handy Dandy, Mr Poe Got, Honey, Ill, Clark Gable, babe, mornin sun, William Zanzinger, Big Jim, Fears Bury, Cheyenne Wherever, Mona, Betsy Ross, lessons jitterbug, Mona Lisa, Ill, Paul Reveres, Goodbye Jimmy Reed, Bill, Quicker, babe, Marcel St John Strong, Fidel Castro, Gray, Said, sun Howm, Jack Hearts Backstage, wolf, Charlie Parker, Ill, Robin Hood, Willie, Ill, s glowin, Hollow, Jefferson, Billy, drillin wall, Simpson, Ill, Tell, Willie, Roll John roll, Ill, William Zanzinger, Kissed, easy findin yer, Ill, Abraham Lincoln, Ginsberg Corso Kerouac, hearin, Willie, Dee, Gypsy Lou, Corrina Corrina Girl, Arthur Dexter Bradleys, Lot, Ill, Billy, Bill, minstrel, Ill, Smokestack, Rubin, Robert Ford, Rosemary, Yea yea, Brag, St Peter, Methodist, Propaganda, Madonna, Ill, Judas, feelin blue, Woody Guthrie, Billy Martin, Ill Santa Fe, Billy, Ill, Limited, Patty Valentine, Del Rio Cantina, Said Tell, Floyd Play, Ill, pawn babe, Bello Bradley, Rio Pecos, Little Boy Blue, Bertha Mason, Jim Rubin, Nettie Moore, Woody Guthrie, Dum Tweedle, Ill, Con Ed, jack ace basement, Ill, yer feet, Abe, babe, Turn, Cain Abel, Ill Black Horse, McKinley, Jimmy Reed Jimmy Reed, Handy Dandy, Rosemary, Lady Luck, Ill, Ill, Tom Paines, Glenn Frey, blinder blinder, Workin cook, Blowing, Rita, Gods, drillin wall, Hollis Brown, Gypsy Lous, Turnin, Billy, Odysseus Odyssey, Julius Ethel Julius, Quick Magdalena, Howard, Romeo, mens dirt, Ill, Lily, bush, Johns, Bobby, Proddie, Johns, Charlie Parker, Jack Hearts Mama, blowin, moon, Madame Butterfly, Shelter, Queen Annes, Baby, catch woods, lessons jitterbug, Lincoln Jefferson Roosevelt, Ill, Dah da, misunderstood anybody, Ill, Swamps, knockin heavens door, Ill, Johanna, Scarlet Town, Queen Jane, Joe Turner, Goodbyes, Julius Ethel Julius, prophet, Rubins, Ill, Ill, Tell Ill, Hold Doc, Jones, Ill, Jolene Jolene Baby, Hudson, Snowflakes, mornin Ill, Buster Keaton, yer soul, Maggie, Louvre throat, babe truer, Babe, Henry Porter, Ill, Ill, Cain, Ill, Henry Lee, Blowing, Ill, Blowing, Billy, Yippee, Henry Porter, Scott Zhukov Patton, Yellow Dog, Hmm, Ill, Duluth Danny Lopez, Lord Donald, Ill, Dah da dada, Davey Moore, Said, Mamas, Abraham Kill, Bob, Crawled, John Brigitte, babe light, Jack Ripper, da Nah, Twas Mississippi, Hands, Mm, Cobwebs, Ill, Ill, Pat Garretts, Anita Ekberg, Ill, Troubles, Lenny Bruce, Prince Phillip, Hold doc, Harlem Can, Fare, babe, Prince Phillip, Ill, Mama, Hmm, Saying Tell, Jack Hearts, Blowing, Georgia Sam, blues, Gods, Jack Ripper, Joe, Rubin, dreams head, Abe, degrees law, Ill, Johanna, Jesus, Maria Shed, Juliet, Ill, Jesus, Joey, Ill, Pedro, Gray, Oz, Lone Ranger Tonto, Ill, Blind Willie McTell, Ill, Rubicon Put, Sons, Ill, Rubin Carter, Jim Staring, Charles Darwin, Gonn, Gypsy Lous, Madonna Two, Ill, Jack Hearts, sun Howm, Willie, Louis Jimmy Buddy, Dupree, Frankie Lee, Billy, babe fortune, Martin Luther King, Jones, Ill, Crimson, Whatevers, Judas, Ill, Mary, Mona, sun Howm, Timmy, Searchin, Boy, Deep Ellum, Ill, Willie, Honey, Simpson, Put jewel crown, La Rio Pecas, Hmm, Etta James, Someday, Joey, Ill, Gypsy Lous, Cain Abel, babe Ill, Claudette, Kissed, John Baptist, Ill, Said, jam Ill, Jackie, Grandma, Blind Willie McTell, Shoulda, Mustang Ford Jump, Twas Chaynee County, Lets, Belle Starr, Abe, Said, Weary, Goodbyes, Wolfman, Howdy, Ill, Reich Man, Rubins, Blind Willie McTell, moon, Gamblin Willie, Johanna, Jimmy Reed, Louise, Davey Moore, Ill, babe, Wolfman, Slip, Jokin, Said, Beethovens, Queen Jane, Jack Guitar Slim, Tie, Queen Jane, mm, Smokestack, Jack Hearts Big Jim, Indiana, Lookin, mamas, Sacramento, Ill, Jack Hearts, Judas Priest Ill, Lords Prayer, Tony Perkins, Van Gogh Camillas, Billy, Ill, Louise lover, Ill, Brown, Jesus, Rolls Royce, Jack Hearts, Queen Jane, mile, Ill, Sally, womb, Keeps, Ill, Godfather Brando Mix, Lose, Listen Duquesne, Leave, Willie, Nicodemus, Jones, Scarlet Town, Ill, Ill, Lily, Ill, Blowing, McKinley, John Lee Hooker, Willie, Roll Willie roll, Ill, Ill, Claudette Ai, Siamese, Ill, Blowing, Honey, Ill, da Du, Mona, Mona, knockin heavens, nothin William Zanzinger, Pedro, Ill, Gray, Roll Willie roll, Hold, Rita, Hmm, babe honey, Willie, Sauds, Jones, Blues, iron ore, Sally, Bette Davis, Susie, Henry Lee, Ill, Ill, Rasputin, Gray, Rubin Carter, Baby, Billy, sun Howm, Frankie Boy, Roll Willie roll, Ill, Mark Rothko Beaten Path, Blind Willie McTell, Joey, kelp piece old, yer, Jack Hearts, Limited, Ill, Joey, Ruby, Fidel Castro, Guitar Slim, debutante knows, Maggie, Cheyenne Turned, Julius Ethel Julius, St Augustine Alive, mamas, turneth rivers, Alfred Bello, Louise lover, Jimmy Cagney, Ill, Ramblin, Ill, Romeo, Lincoln Jefferson Roosevelt, Ill, heard, Headin, Baby Ill, Sherlock Holmes Followed, Ruth Something, Tom Paine, Grandpa, Ill, Said Son, Grandpa, babe, Van Gogh, Man, Betsy Ross, Willie, Boot Hill, Hmm, Sherlock Holmes Followed, Jack Hearts, John Brown, John Bircher, Rip, Roll Willie roll, Stan Getz Play Blue Sky, Fine, Highbrow, Roll Willie roll, Frankie Lee, John Liverpool, Rosie, Hang baby lets hope, Boss Ill, Hmm, Gregory, Remind, Delilah Philistine Shell, Plays, Mamas, John Liverpool, Thump Bible, Frankie Lee, Draw, Ill die, Lizzy, Blind Willie McTell, Dresses, Ill, Said, Blowing, Black Diamond Bay, Ill, Jack Hearts, Honeysuckle, Estelle, Looking cook, Alicia Keys, Ray, mark overstep, hurry busy, Emmett, Sucked, Handy Dandy, knockin heavens, Sugar Baby, Mamas, Louise, Abe, sun Howm, Ill, Nettie Moore, John Brown, Town Everybodys, knockin heavens, Man, Jones Went, Willie, Ill, Louie King, Tommy, Lets, Davey Moore, Danny Boy, Gypsy Lou, Staying, Samantha Brown, Peggy Night, Draw, Queen Jane, Lost John, Glass, Troubles, Johns, Ill, Leo, Ill, Movin, Ill, Blind Willie McTell, Plays, Jeanette Camillas, Rip, Billy, Movin, Aw, Ill, Nettie Moore, Hazel}\n",
      "norp :  {Honey, Germans, Honey, Drunkards, Papas, American, Germans, Southern, Everybodys, Daddys, Appalachian, Russians, Judeo Christian, Sailin, Communist, Heartbreaker, Siamese, Yippee, American, Honey, Zapruders, Wiggle, Indians, Arabian, Western, San Pedroll, Arabian, Arabian, Fascist, Catfish, American, American, Honey, Communist, Greek, Daddys, Someones, Daddys, Looks, mans, communist, Greek, Wolfmans, Someones, Papas, Honey, Clergymen, Someones, Coming, British, Neath Panamanian, Honey, Honey, Honey, Indian, Bluebells, Stopped, American, Wiggle, Moby, Wears, Scarecrow, Honey, Someones, Bullet, Southern, Arabian, Jews Catholics Muslims, Indian, Arabian, Greek, South American, Drunkards, Someones, Neath Panamanian, Spiritual, American, Indian, turnin, Honey, Honey, American, Listenin, French Quarter, Aztec, French, Philistines, Slim, Utopian, Cleo, Greek, Russian, Communist, Valentino, Forever, Chinese, Spanish, Pagans, French, Merchants, Snap, Arab, Greek, Unload, Christian, Lies, Communists, Russian, Honey, Egyptian, Greek, Arabian, Forever, Yippee, Someones, Mexican, Greek, Shaker, Honey, Slim, gazin, Talkin, Talkin, Phones, Germans, Communists, Russians, Daddys, Shake, Lets, American, Honey, Forever, African, Jews, mans, Arabian, Mexican, Indians, Pounced, Pourin, Arab, American, Saying Fist, Jamaican, Saying Fist, Greek, Arabian, Spanish, Forever, Hindu, Honey, Spanish, Jews, Lets, Tularosa, Greek, Ahabs, Utopian, Wiggle, Jews, French, turnin, Honey, Arabian, Spanish, Papas, Californ, Egyptian, Jezebel, Daddys, Mans, Someones, American, sailin, British, Arabian, Italian, Germans, howlin, Greek, Sicilian, Daddys, Someones, Never, Never, Communist, Lookin, Someones, Italian, Someones, Russian, Bluebells, Soviet, Honey, Hindu, Honey, Broken, Russian, Wiggle, Bullet, Limbs, Ahabs, Honey, Yippee, Analyze, Australian, Threw, Honey, Swiss, Jews Catholics Muslims, Wears, Persian, Philistines, Daddys, Greek, Communist, French, Honey, sailin, Lies, Looks, Communist, Honey, Amarillo, Attendez, French, British, Egyptian, Wildwood, Broken, Sailin, Daddys, Build, Jamaican, Sluggers, Looks, Soviet, Hopin, Crazy, Unload, Jezebel, Communists, Mans, Laid, Somethin, Papas, Hopin, American, Philistines, Cleo, Send, Fascist, Arab, Shock, Hindu, Jezebel, British, Catfish, Russian, Russian, Judas, Arabian, mans, Analyze, Fascist, Honey, Greek, Daddys, Broken, Communists, Jews, Someones, Arab, Fascist, Arab, Lets, Indians, Citys, Shining, Clap, Russians, Hazel, Someones, Felt, Neath Panamanian, Heartbreaker, American, Citys, Indians, Mexican, Broken, Analyze, Someones, Broken, Chinese, Bullet, Southern, Spanish, Daddys, Honey, Attendez, Talkin, Everybodys, Arab, Australian, Sailin, Greek, American, Honey, Honey, Crazy, Indian, Ahabs, American, Italian, Hopin, Honey, Irish, San Pedroll, Egyptian, Someones, Laid, American, Tangled, Spanish, Southern}\n",
      "fac :  {Holy Grail, Golden Gate Rockefeller Plaza, Sayin Ban, Red Wing, Amelia Street Bayview Park, Saint Women, Neath, Straight hills black hills, Tower Babel, La dah, Parkland Hospital, Love, Ran street, Mobile Memphis, Red River Shore, Red River Shore, Red Wing, Gates Eden, Key Highway, Italy Italy, Sweet Goddess, Desolation Row, Baby Blue highway, Old Reillys, St James Street, Somewhere Mamas, Lily Jims, cypress, Tower Babel, Gates Eden, yer minutes, Grand Street, Saint Women, Desolation Row Einstein, Red Wing, Ran street, Mobile Memphis, Mobile Memphis, Sara, Golden Gate Bridge, Greenwich Village, Villa Torreon, La dah dah da da, Lily Jims, Maggies, Franklin Avenue Shake, Montague Street, Stranger, Old Reillys, Darkness, Farewell Angelina, Grand Street, Austin Fort Worth San Antone, Statue Liberty Winterlude Winterlude, Red River Shore, Gates Eden, Montague Street, Mobile Memphis, Main Street Hope, Gates Eden, Black Diamond Bay, Main Street, Lower Broadway, Mobile Memphis, da da dah, Black Diamond Bay, Gower Avenue, Red Cast, Grand Street, Gates Eden, Sayin Ban, lays street, Mobile Memphis, Roman Kings, Casanova, Peggy Day Love, Morning Pittsburgh, Heres Cisco Sonny, Stick, Red River Shore, Desolation Row, Red River Shore, Mobile Memphis, Mobile Memphis, Stick, Cripple Creek, La dah, Red River Shore, Tenth Avenue, yer cup, Red River Shore, chase moon, Suicide Road, Main Street, Sara, Amusement Park Alleyway, Silvio Silver, Mobile Memphis, Thunderbird Cafe Crystal, Red River Shore, Mobile Memphis, Darkness, Maggies, Left, Red River Shore, Jackson River Queen, Mobile Memphis, Main Street, Stick, Shame, Maggies, Amelia Street Bayview Park, Thunderbird Cafe Crystal, Curry Road Arizona, Camille Neath, Red River Shore, Red River Shore, Elm Street, Bagby Lamar, Cripple Creek, Stick, Desolation Row Einstein, Slip away, Sara, Jackson River Queen, Golden Gate Rockefeller Plaza, Thisaway Thisaway Lord Lord Lord, Darkness, Golden Gate Bridge, Red River Shore, Gates Eden, rattlin breakin, Red River Shore, Red River Shore, Love, Left, Red River Shore, Gates Eden, Purple, Gates Eden, Gates Eden, Love Field}\n",
      "gpe :  {Broken, America, Houston, Chicago, London, Utah, Oklahoma, Wherever, Malaysia, El Paso, Memphis, New York, Lightning, Puppets, Bought city one, Great Lakes, Hollywood, Texas, Maryland, Federal City, Georgia, Mobile Memphis, Colorado, Angelina, Ruthie, Town, Intro, Brownsville, Egypt, Mobile, us, South Dakota, Dallas, Quinn Whoah, Mozambique, Ruthie, Oregon, Cuba, New York, Quinn Eskimo, Maryland, Magdalena, Memphis, Chicago, US, Argentina, Memphis, Quinn Eskimo, Mozambique, Washington, Scarlet Town end, New Orleans, Ahll, Wellington, green Wiggle, Sayin, Angelina, us, Minnesota, Baltimore, Miami, Johannas, Caint, Waiting, Kissing, Salt Lake City, Quinn Eskimo, West Jordan, lover, lover, Clouds, Las Vegas, El Paso, El Salvador, Texas, San Anton, France, Tennessee, Kansas, New York, Taiwan, Alabama, Counterfeit, Mexico, Brooklyn, Altamont, Salt Lake City, Mobile Memphis, us, Alabama, Washington Heights, Patty, San Francisco, Angelina, Ai, Darkness, Negros, Twas, New York, Portugal, New York, Mistake, Sara, Hm, reborn, Mozambique, New York, Detroit, Tulsa, Texas, Remus, United States, New Orleans, Forever, Lightning, Renegade, Baltimore, Washington, Hurricane, Boston, Ohio, us, New York City, Minnesota, key kingdom, Hollywood, us, Kansas, Ishmael, Lights, Wherever, travelin, Rome, Hopin, Hong Kong, Ferry, knuckles, Dallas, New York, New Orleans, Lights, England, Hamburg, San Francisco, Iran, Nevada, Missouri, Killin, Italy, Denver, Bounty, Loadin, London, Quotable, Mobile Memphis, Sayin, Quinn, Hollywood, Caint, Paterson, Dee Tweedle, San Francisco, Brownsville, us, Chicago, Quinn, Oklahoma, Paris, Mexico City, Mexico, New York, Panama, Texas, Las Vegas, New Orleans, Idaho, lone guitar, Hopin, Sky, Scarlet Town, Quinn Come, San Pedro, Trees, Paris, Italy, Amsterdam, New York, Washington Heights, Magdalena, Virginia, Atlantic City, Hearin, Key West gateway, Singapore, Trojan, Calvary, New York, Hurricane, Takin, Italy, Tennessee, Bought city one, Building, Quinn, Starry, Brussels, Chicago, Montana, North Country Lakes, Elvis, South Dakota, Darktown Strut, Memphis, South Dakota, Tularosa, Mobile, New York, Rome, us, Quinn, Wherever, us, Washington, Papas, Japan, Jerusalem, Utah, Waiting, India, Denver, Kansas, Philippines, Panama, Chicago, China, New York, Baltimore, El Paso, New York, Bounty, Neath, Ethel Eisenhower, London, US, Charlottes, Amsterdam, Woodstock, New York, Lets, Omaha, New York City, Sayin, San Francisco, Sending, Panama, New Orleans, London, New Mexico, Russia, Angelina, California, Virginia, Illinois, Key West gateway, Mobile, Texas, Pennsylvania, Wellington, Arizona, nickels, Boston, New Orleans, moss, New York, thruway, travelin, New York, Broken, Mississippi, Tyger, Santa Claus, Melville, Leaving, Mobile, West Jordan, Mexico, New York, Great Lakes, Quinn Come, Barcelona, Sky, New York, San Francisco, New York, Buenos, New York, Arkansas, Zimmy, New York, meadow creek, Alabama, Georgia, Libya, Forever, Sayin, New York, Neath, Veronica, Bougainvillea, reborn, Memphis, Shedding, Every kingdom, King Kong, Hollywood, Panama, Tularosa, Bougainvillea, Empire, Paterson, New York, Madams, Sayin, Hurricane, Oklahoma, New York City, Mexico, Hurricane, Mississippi, Pride, New York, Forever, France, Brazil, Houston, Angelina, Tolling, Jerusalem, Indiana, United States, Paris, Ruthie, Isis, Johannas, New York City, Caint, Forever, London, Dying, West Leaving, Washington, Egypt, Ethiopia, Shake, Chicago, El Paso, Mozambique, Sayin, Alabama, New Jersey, Hurricane, Quinn, Madrid, Vicksburg, Tyger, Colorado, Illinois, El Paso Stopped, Plenty, Pakistan, Italy, Charlottes, America, Texas, lone guitar, Tularosa, Ahll, New Orleans, Johnnys, New Jersey, South Dakota, Scarlet Town, Baltimore, Paterson, Burns, Madams, Egypt, Quinn Eskimo, West Split, Hurricane, Wherever, Quinn Eskimo, Quinn Eskimo, Hamburg, Cantina, Texas, New York, Alamo, New York Howdy East Orange, Dee Tweedle, Baltimore, Argentina, New Jersey, Dallas, Jerusalem, Waiting}\n",
      "loc :  {Earth, Gulf Mexico, West Key West, Fishtail Palms, West, Way Mexico, Gates Eden, Mississippi moon, West, Staten Island Ferry, Roman Kings, Key West Key West, East Coast Radio, England America, earth, Key West Key West, Nassau Mexico, Key West, South, Eden, Diamond Bay, Drawn, North, bluff guess, Streaming East Death, Nassau Mexico, Midwest, Key West, St Cloud Prison, Shadows, Coney Island, Nassau Mexico, Rocky Mountains, Gates Eden, Coliseum Dodging, Caribbean, Wedding, Left Utah, moon cotton, Midwest, Roman Kings, earth, Listen Duquesne, Key West, Key West, Diamond Bay, Bout East Coast, Black Diamond Bay, Eden, Titanic, Roman Kings, Key West, Key West Key West sun, Key West, Black Diamond Bay, Blue river, Key West, Roman, Key West, Rubins South America, Sergeant Arms, Bird, East Coast, West Key West, Caribbean, Hyde Park, East, Bear Mountain, Key West, Listen Duquesne, Atlantic, Earth, Tweedle dee Dum, Dum Tweedle, Key West Key West, Key West, Bird, North Wind, Earth, gulf, mountains sea, Rubins South America, Last Thoughts, East Texas, Shadows, Bear Mountain, north Ill, Automobile, Caribbean, Key West, West Key West, s moon, East Texas, Key West, Heading East Coast, Gates Eden, Sermon Mount, Gulf Mexico, Grand Canyon, Blue river, Diamond Bay, Earth, Key West Key West, Africa Indian Ocean, Rocky Mountain, Rocky Mountains, Southern Pacific, Key West Key West, Key West, Key West, Key West, Black Diamond Bay island, Atlantic, West Jordan, Bird, Staten Island Ferry, Western Road, Stan, Love, Key West, Earth, Bird, Atlantic, Key West Key West sun, Shadows, Shadows, Earth, horn Dressed, Southern Zone, Angel, West Jordan, Fishtail Palms, Key West, Listen Duquesne, Peggy Day, West Jordan, Key West, Tweedle dee Dum, Key West, Titanic, Bout East Coast, Rocky Mountain, Sermon Mount, Rubins South America, Eden, Roman Kings, Key West, Roman Kings, East West, Peggy Day, Key West Key West, Key West, East West, West Key West, desert island, Watch river, west east, Streaming East Death, Key West, mountains sea, Black Diamond Bay island, Bird}\n",
      "event :  {Spanish American War day, Somethings, World War, Wabasha Meet, Oh First World War, Rainy days, Civil War, World War, First World War, Wabasha Meet, Rainy days, New Years Eve, lake Black Swan Big, Revolution, east day day, Taos, World War, Second World War, Revolution, lake Black Swan Big, World War III, Honolulu San Francisco, Honolulu San Francisco, Orchids Poppies Black, Second World War, New Years Eve, World War Three, Civil War, World War Three, Singing Memphis, east day day, Spanish American War day}\n",
      "works :  {Woody like, Highway, La dah, Knocking, Mobile Memphis, Nature Boy Play, Standing Gods, Muse, Please Dont Let Misunderstood Play First Lady, Love, Love, Love Leave, Thrown, Soon, Nobel Prize Literature, Moonlight, Thankful, Exodus Well, La dah dah, Jazz Play, Napoleon Boneeparte, Saying Throw, Bible, Bible, Mobile Memphis, Mobile Memphis, Springtime turned Slowly Autumn Idiot, Highway, Standing Gods, Greyhound, Love, Corrina Life, Titanic, Thankful, Ringin, Mobile Memphis, Mobile Memphis, Baby, Saying Death, Love, Dickey Betts Play, Camping night, Love, Mobile Memphis, China Bay, Farewell Angelina, Highway Well Mack Finger, Bible, Exodus Well, Sing Amazing Grace, Stripes shoulders Stripes, Saying Master, Everybodys Feeding, Mobile Memphis, Love, Love, Theres, Exodus Well, Odyssey, Highway Well Mack Finger, Hurricane, Saying Gold, Saying Death, Old Testament, Highway, Saying Death, Mobile Memphis blues Lazy, Love, Mobile Memphis, Love, Love, Camping night, Highway Well Mack Finger, Twilight Time, Gregory Peck Yeah, Finally Ahab, Flaggin Double E, Rule earth skies Looking nothing Anyones, Red Wing, Titanic, Saying Gold, Woody}\n",
      "lang :  {English, English, Siamese}\n"
     ]
    }
   ],
   "source": [
    "entityreco(f)"
   ]
  },
  {
   "cell_type": "code",
   "execution_count": null,
   "metadata": {},
   "outputs": [],
   "source": []
  },
  {
   "cell_type": "code",
   "execution_count": null,
   "metadata": {},
   "outputs": [],
   "source": []
  },
  {
   "cell_type": "code",
   "execution_count": null,
   "metadata": {},
   "outputs": [],
   "source": []
  },
  {
   "cell_type": "code",
   "execution_count": null,
   "metadata": {},
   "outputs": [],
   "source": []
  },
  {
   "cell_type": "markdown",
   "metadata": {},
   "source": [
    "### Can go deep--- use hyponyms : Suppose if our motif is weather he uses \"artist\" a lot then search for its hyponums, that is what kind of artist does he mention the most"
   ]
  },
  {
   "cell_type": "code",
   "execution_count": null,
   "metadata": {},
   "outputs": [],
   "source": []
  },
  {
   "cell_type": "code",
   "execution_count": null,
   "metadata": {},
   "outputs": [],
   "source": []
  },
  {
   "cell_type": "code",
   "execution_count": null,
   "metadata": {},
   "outputs": [],
   "source": [
    "# all_l = {}\n",
    "# res = defaultdict(set)\n",
    "# for noun in plural_nouns:\n",
    "#     t = wn.synsets(noun)\n",
    "#     if t is not None:\n",
    "#         lemma = set()\n",
    "#         for synset in t:\n",
    "#             l = {l for l in synset.lemma_names()}\n",
    "#             lemma.update(l) \n",
    "#         all_l[noun] = lemma\n",
    "# for key,val in all_l.items():\n",
    "#     count = 0\n",
    "#     for ent in val:\n",
    "#         if ent in plural_nouns:\n",
    "#             count += 1\n",
    "#     res[count].add(key)"
   ]
  },
  {
   "cell_type": "code",
   "execution_count": null,
   "metadata": {},
   "outputs": [],
   "source": []
  },
  {
   "cell_type": "code",
   "execution_count": null,
   "metadata": {},
   "outputs": [],
   "source": []
  },
  {
   "cell_type": "markdown",
   "metadata": {},
   "source": [
    "## Could've said joker and clown but sysnset doesn;t habe joker in it, so lemme add here!"
   ]
  },
  {
   "cell_type": "code",
   "execution_count": null,
   "metadata": {},
   "outputs": [],
   "source": []
  },
  {
   "cell_type": "code",
   "execution_count": null,
   "metadata": {},
   "outputs": [],
   "source": []
  },
  {
   "cell_type": "code",
   "execution_count": null,
   "metadata": {},
   "outputs": [],
   "source": []
  },
  {
   "cell_type": "code",
   "execution_count": null,
   "metadata": {},
   "outputs": [],
   "source": []
  },
  {
   "cell_type": "code",
   "execution_count": null,
   "metadata": {},
   "outputs": [],
   "source": []
  },
  {
   "cell_type": "code",
   "execution_count": null,
   "metadata": {},
   "outputs": [],
   "source": []
  },
  {
   "cell_type": "code",
   "execution_count": null,
   "metadata": {},
   "outputs": [],
   "source": [
    "    "
   ]
  },
  {
   "cell_type": "code",
   "execution_count": null,
   "metadata": {},
   "outputs": [],
   "source": []
  },
  {
   "cell_type": "code",
   "execution_count": null,
   "metadata": {},
   "outputs": [],
   "source": []
  },
  {
   "cell_type": "code",
   "execution_count": null,
   "metadata": {},
   "outputs": [],
   "source": []
  },
  {
   "cell_type": "code",
   "execution_count": null,
   "metadata": {},
   "outputs": [],
   "source": []
  },
  {
   "cell_type": "code",
   "execution_count": null,
   "metadata": {},
   "outputs": [],
   "source": [
    "# corpus_text.concordance('Attendez')"
   ]
  },
  {
   "cell_type": "code",
   "execution_count": null,
   "metadata": {},
   "outputs": [],
   "source": []
  },
  {
   "cell_type": "code",
   "execution_count": null,
   "metadata": {},
   "outputs": [],
   "source": []
  },
  {
   "cell_type": "code",
   "execution_count": null,
   "metadata": {},
   "outputs": [],
   "source": []
  },
  {
   "cell_type": "code",
   "execution_count": null,
   "metadata": {},
   "outputs": [],
   "source": []
  },
  {
   "cell_type": "code",
   "execution_count": null,
   "metadata": {},
   "outputs": [],
   "source": []
  },
  {
   "cell_type": "code",
   "execution_count": null,
   "metadata": {},
   "outputs": [],
   "source": []
  },
  {
   "cell_type": "code",
   "execution_count": null,
   "metadata": {},
   "outputs": [],
   "source": []
  },
  {
   "cell_type": "code",
   "execution_count": null,
   "metadata": {},
   "outputs": [],
   "source": []
  },
  {
   "cell_type": "code",
   "execution_count": null,
   "metadata": {},
   "outputs": [],
   "source": []
  },
  {
   "cell_type": "markdown",
   "metadata": {},
   "source": [
    "## TF-IDF"
   ]
  },
  {
   "cell_type": "code",
   "execution_count": null,
   "metadata": {},
   "outputs": [],
   "source": []
  },
  {
   "cell_type": "code",
   "execution_count": null,
   "metadata": {},
   "outputs": [],
   "source": []
  },
  {
   "cell_type": "code",
   "execution_count": null,
   "metadata": {},
   "outputs": [],
   "source": []
  },
  {
   "cell_type": "code",
   "execution_count": null,
   "metadata": {},
   "outputs": [],
   "source": []
  },
  {
   "cell_type": "code",
   "execution_count": null,
   "metadata": {},
   "outputs": [],
   "source": []
  },
  {
   "cell_type": "code",
   "execution_count": null,
   "metadata": {},
   "outputs": [],
   "source": []
  },
  {
   "cell_type": "code",
   "execution_count": null,
   "metadata": {},
   "outputs": [],
   "source": []
  },
  {
   "cell_type": "code",
   "execution_count": null,
   "metadata": {},
   "outputs": [],
   "source": []
  },
  {
   "cell_type": "code",
   "execution_count": null,
   "metadata": {},
   "outputs": [],
   "source": []
  },
  {
   "cell_type": "code",
   "execution_count": null,
   "metadata": {},
   "outputs": [],
   "source": []
  },
  {
   "cell_type": "code",
   "execution_count": null,
   "metadata": {},
   "outputs": [],
   "source": []
  },
  {
   "cell_type": "code",
   "execution_count": null,
   "metadata": {},
   "outputs": [],
   "source": []
  },
  {
   "cell_type": "code",
   "execution_count": null,
   "metadata": {},
   "outputs": [],
   "source": []
  },
  {
   "cell_type": "markdown",
   "metadata": {},
   "source": [
    "#### How succesfull was BD in making in a \"country Album\"? -- Nashville skyline and others.. // Predict a song's genre \n",
    "#### Sentiment analysis by years\n",
    "#### Key word extraction\n",
    "#### Letting AI write a bob dylan song "
   ]
  },
  {
   "cell_type": "code",
   "execution_count": null,
   "metadata": {},
   "outputs": [],
   "source": []
  },
  {
   "cell_type": "code",
   "execution_count": null,
   "metadata": {},
   "outputs": [],
   "source": []
  },
  {
   "cell_type": "code",
   "execution_count": null,
   "metadata": {},
   "outputs": [],
   "source": []
  },
  {
   "cell_type": "code",
   "execution_count": null,
   "metadata": {},
   "outputs": [],
   "source": []
  },
  {
   "cell_type": "code",
   "execution_count": null,
   "metadata": {},
   "outputs": [],
   "source": []
  },
  {
   "cell_type": "code",
   "execution_count": null,
   "metadata": {},
   "outputs": [],
   "source": []
  },
  {
   "cell_type": "code",
   "execution_count": null,
   "metadata": {},
   "outputs": [],
   "source": []
  }
 ],
 "metadata": {
  "kernelspec": {
   "display_name": "Python 3",
   "language": "python",
   "name": "python3"
  },
  "language_info": {
   "codemirror_mode": {
    "name": "ipython",
    "version": 3
   },
   "file_extension": ".py",
   "mimetype": "text/x-python",
   "name": "python",
   "nbconvert_exporter": "python",
   "pygments_lexer": "ipython3",
   "version": "3.8.5"
  }
 },
 "nbformat": 4,
 "nbformat_minor": 4
}
